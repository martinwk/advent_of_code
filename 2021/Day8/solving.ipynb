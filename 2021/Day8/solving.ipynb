{
 "cells": [
  {
   "cell_type": "code",
   "execution_count": 1,
   "metadata": {},
   "outputs": [],
   "source": [
    "import pandas as pd\n",
    "import numpy as np\n",
    "import re\n"
   ]
  },
  {
   "cell_type": "markdown",
   "metadata": {},
   "source": [
    "# import data"
   ]
  },
  {
   "cell_type": "code",
   "execution_count": 2,
   "metadata": {},
   "outputs": [
    {
     "data": {
      "text/html": [
       "<div>\n",
       "<style scoped>\n",
       "    .dataframe tbody tr th:only-of-type {\n",
       "        vertical-align: middle;\n",
       "    }\n",
       "\n",
       "    .dataframe tbody tr th {\n",
       "        vertical-align: top;\n",
       "    }\n",
       "\n",
       "    .dataframe thead th {\n",
       "        text-align: right;\n",
       "    }\n",
       "</style>\n",
       "<table border=\"1\" class=\"dataframe\">\n",
       "  <thead>\n",
       "    <tr style=\"text-align: right;\">\n",
       "      <th></th>\n",
       "      <th>0</th>\n",
       "      <th>1</th>\n",
       "      <th>2</th>\n",
       "      <th>3</th>\n",
       "      <th>4</th>\n",
       "      <th>5</th>\n",
       "      <th>6</th>\n",
       "      <th>7</th>\n",
       "      <th>8</th>\n",
       "      <th>9</th>\n",
       "    </tr>\n",
       "  </thead>\n",
       "  <tbody>\n",
       "    <tr>\n",
       "      <th>0</th>\n",
       "      <td>abdefg</td>\n",
       "      <td>abcdfg</td>\n",
       "      <td>cd</td>\n",
       "      <td>bcdeg</td>\n",
       "      <td>bcdefg</td>\n",
       "      <td>abcdefg</td>\n",
       "      <td>cdef</td>\n",
       "      <td>bcd</td>\n",
       "      <td>bdefg</td>\n",
       "      <td>abceg</td>\n",
       "    </tr>\n",
       "    <tr>\n",
       "      <th>1</th>\n",
       "      <td>abcdefg</td>\n",
       "      <td>df</td>\n",
       "      <td>bcdfg</td>\n",
       "      <td>bdef</td>\n",
       "      <td>cdf</td>\n",
       "      <td>bcdefg</td>\n",
       "      <td>bcdeg</td>\n",
       "      <td>acdefg</td>\n",
       "      <td>abcdeg</td>\n",
       "      <td>abcfg</td>\n",
       "    </tr>\n",
       "    <tr>\n",
       "      <th>2</th>\n",
       "      <td>ag</td>\n",
       "      <td>afg</td>\n",
       "      <td>abcefg</td>\n",
       "      <td>abeg</td>\n",
       "      <td>acefg</td>\n",
       "      <td>abcdefg</td>\n",
       "      <td>abcdfg</td>\n",
       "      <td>acdef</td>\n",
       "      <td>bcdefg</td>\n",
       "      <td>bcefg</td>\n",
       "    </tr>\n",
       "    <tr>\n",
       "      <th>3</th>\n",
       "      <td>acdefg</td>\n",
       "      <td>bde</td>\n",
       "      <td>abcdefg</td>\n",
       "      <td>abcdg</td>\n",
       "      <td>abdeg</td>\n",
       "      <td>abcdef</td>\n",
       "      <td>adefg</td>\n",
       "      <td>befg</td>\n",
       "      <td>abdefg</td>\n",
       "      <td>be</td>\n",
       "    </tr>\n",
       "    <tr>\n",
       "      <th>4</th>\n",
       "      <td>bdefg</td>\n",
       "      <td>ab</td>\n",
       "      <td>acdef</td>\n",
       "      <td>abdefg</td>\n",
       "      <td>abf</td>\n",
       "      <td>abeg</td>\n",
       "      <td>abcdfg</td>\n",
       "      <td>abdef</td>\n",
       "      <td>abcdefg</td>\n",
       "      <td>bcdefg</td>\n",
       "    </tr>\n",
       "    <tr>\n",
       "      <th>...</th>\n",
       "      <td>...</td>\n",
       "      <td>...</td>\n",
       "      <td>...</td>\n",
       "      <td>...</td>\n",
       "      <td>...</td>\n",
       "      <td>...</td>\n",
       "      <td>...</td>\n",
       "      <td>...</td>\n",
       "      <td>...</td>\n",
       "      <td>...</td>\n",
       "    </tr>\n",
       "    <tr>\n",
       "      <th>195</th>\n",
       "      <td>abcdefg</td>\n",
       "      <td>bdefg</td>\n",
       "      <td>bcdef</td>\n",
       "      <td>efg</td>\n",
       "      <td>abcdef</td>\n",
       "      <td>eg</td>\n",
       "      <td>bceg</td>\n",
       "      <td>bcdefg</td>\n",
       "      <td>acdefg</td>\n",
       "      <td>abdfg</td>\n",
       "    </tr>\n",
       "    <tr>\n",
       "      <th>196</th>\n",
       "      <td>abcdeg</td>\n",
       "      <td>bcdeg</td>\n",
       "      <td>abcg</td>\n",
       "      <td>cg</td>\n",
       "      <td>abdefg</td>\n",
       "      <td>acdefg</td>\n",
       "      <td>bcdef</td>\n",
       "      <td>cdg</td>\n",
       "      <td>abdeg</td>\n",
       "      <td>abcdefg</td>\n",
       "    </tr>\n",
       "    <tr>\n",
       "      <th>197</th>\n",
       "      <td>af</td>\n",
       "      <td>abcdeg</td>\n",
       "      <td>acdf</td>\n",
       "      <td>bdefg</td>\n",
       "      <td>adefg</td>\n",
       "      <td>abcefg</td>\n",
       "      <td>aef</td>\n",
       "      <td>abcdefg</td>\n",
       "      <td>acdeg</td>\n",
       "      <td>acdefg</td>\n",
       "    </tr>\n",
       "    <tr>\n",
       "      <th>198</th>\n",
       "      <td>bcdefg</td>\n",
       "      <td>bcdef</td>\n",
       "      <td>acdefg</td>\n",
       "      <td>abcdefg</td>\n",
       "      <td>befg</td>\n",
       "      <td>abcdef</td>\n",
       "      <td>bcdfg</td>\n",
       "      <td>fg</td>\n",
       "      <td>dfg</td>\n",
       "      <td>abcdg</td>\n",
       "    </tr>\n",
       "    <tr>\n",
       "      <th>199</th>\n",
       "      <td>bcdef</td>\n",
       "      <td>bc</td>\n",
       "      <td>cdefg</td>\n",
       "      <td>abcdfg</td>\n",
       "      <td>bceg</td>\n",
       "      <td>abcdefg</td>\n",
       "      <td>bcdefg</td>\n",
       "      <td>abdef</td>\n",
       "      <td>acdefg</td>\n",
       "      <td>bcd</td>\n",
       "    </tr>\n",
       "  </tbody>\n",
       "</table>\n",
       "<p>200 rows × 10 columns</p>\n",
       "</div>"
      ],
      "text/plain": [
       "           0       1        2        3       4        5       6        7  \\\n",
       "0     abdefg  abcdfg       cd    bcdeg  bcdefg  abcdefg    cdef      bcd   \n",
       "1    abcdefg      df    bcdfg     bdef     cdf   bcdefg   bcdeg   acdefg   \n",
       "2         ag     afg   abcefg     abeg   acefg  abcdefg  abcdfg    acdef   \n",
       "3     acdefg     bde  abcdefg    abcdg   abdeg   abcdef   adefg     befg   \n",
       "4      bdefg      ab    acdef   abdefg     abf     abeg  abcdfg    abdef   \n",
       "..       ...     ...      ...      ...     ...      ...     ...      ...   \n",
       "195  abcdefg   bdefg    bcdef      efg  abcdef       eg    bceg   bcdefg   \n",
       "196   abcdeg   bcdeg     abcg       cg  abdefg   acdefg   bcdef      cdg   \n",
       "197       af  abcdeg     acdf    bdefg   adefg   abcefg     aef  abcdefg   \n",
       "198   bcdefg   bcdef   acdefg  abcdefg    befg   abcdef   bcdfg       fg   \n",
       "199    bcdef      bc    cdefg   abcdfg    bceg  abcdefg  bcdefg    abdef   \n",
       "\n",
       "           8        9  \n",
       "0      bdefg    abceg  \n",
       "1     abcdeg    abcfg  \n",
       "2     bcdefg    bcefg  \n",
       "3     abdefg       be  \n",
       "4    abcdefg   bcdefg  \n",
       "..       ...      ...  \n",
       "195   acdefg    abdfg  \n",
       "196    abdeg  abcdefg  \n",
       "197    acdeg   acdefg  \n",
       "198      dfg    abcdg  \n",
       "199   acdefg      bcd  \n",
       "\n",
       "[200 rows x 10 columns]"
      ]
     },
     "execution_count": 2,
     "metadata": {},
     "output_type": "execute_result"
    }
   ],
   "source": [
    "original_input = pd.read_csv('input.txt',header=None, sep=' ', engine='python').applymap(lambda x: ''.join(sorted(x)))\n",
    "ten_digits = original_input.loc[:,:9]\n",
    "ten_digits"
   ]
  },
  {
   "cell_type": "code",
   "execution_count": 3,
   "metadata": {},
   "outputs": [
    {
     "data": {
      "text/html": [
       "<div>\n",
       "<style scoped>\n",
       "    .dataframe tbody tr th:only-of-type {\n",
       "        vertical-align: middle;\n",
       "    }\n",
       "\n",
       "    .dataframe tbody tr th {\n",
       "        vertical-align: top;\n",
       "    }\n",
       "\n",
       "    .dataframe thead th {\n",
       "        text-align: right;\n",
       "    }\n",
       "</style>\n",
       "<table border=\"1\" class=\"dataframe\">\n",
       "  <thead>\n",
       "    <tr style=\"text-align: right;\">\n",
       "      <th></th>\n",
       "      <th>11</th>\n",
       "      <th>12</th>\n",
       "      <th>13</th>\n",
       "      <th>14</th>\n",
       "    </tr>\n",
       "  </thead>\n",
       "  <tbody>\n",
       "    <tr>\n",
       "      <th>0</th>\n",
       "      <td>bcd</td>\n",
       "      <td>abcdefg</td>\n",
       "      <td>bcdefg</td>\n",
       "      <td>cdef</td>\n",
       "    </tr>\n",
       "    <tr>\n",
       "      <th>1</th>\n",
       "      <td>abcdefg</td>\n",
       "      <td>abcfg</td>\n",
       "      <td>acdefg</td>\n",
       "      <td>abcfg</td>\n",
       "    </tr>\n",
       "    <tr>\n",
       "      <th>2</th>\n",
       "      <td>bcefg</td>\n",
       "      <td>abcdefg</td>\n",
       "      <td>afg</td>\n",
       "      <td>acefg</td>\n",
       "    </tr>\n",
       "    <tr>\n",
       "      <th>3</th>\n",
       "      <td>abcdg</td>\n",
       "      <td>be</td>\n",
       "      <td>abcdefg</td>\n",
       "      <td>abcdefg</td>\n",
       "    </tr>\n",
       "    <tr>\n",
       "      <th>4</th>\n",
       "      <td>acdef</td>\n",
       "      <td>abf</td>\n",
       "      <td>abdefg</td>\n",
       "      <td>abcdfg</td>\n",
       "    </tr>\n",
       "    <tr>\n",
       "      <th>...</th>\n",
       "      <td>...</td>\n",
       "      <td>...</td>\n",
       "      <td>...</td>\n",
       "      <td>...</td>\n",
       "    </tr>\n",
       "    <tr>\n",
       "      <th>195</th>\n",
       "      <td>bcdef</td>\n",
       "      <td>bceg</td>\n",
       "      <td>bdefg</td>\n",
       "      <td>eg</td>\n",
       "    </tr>\n",
       "    <tr>\n",
       "      <th>196</th>\n",
       "      <td>abcdeg</td>\n",
       "      <td>cg</td>\n",
       "      <td>cg</td>\n",
       "      <td>bcdeg</td>\n",
       "    </tr>\n",
       "    <tr>\n",
       "      <th>197</th>\n",
       "      <td>acdeg</td>\n",
       "      <td>abcefg</td>\n",
       "      <td>abcdefg</td>\n",
       "      <td>bdefg</td>\n",
       "    </tr>\n",
       "    <tr>\n",
       "      <th>198</th>\n",
       "      <td>bcdef</td>\n",
       "      <td>befg</td>\n",
       "      <td>fg</td>\n",
       "      <td>fg</td>\n",
       "    </tr>\n",
       "    <tr>\n",
       "      <th>199</th>\n",
       "      <td>abdef</td>\n",
       "      <td>cdefg</td>\n",
       "      <td>bcd</td>\n",
       "      <td>bcdefg</td>\n",
       "    </tr>\n",
       "  </tbody>\n",
       "</table>\n",
       "<p>200 rows × 4 columns</p>\n",
       "</div>"
      ],
      "text/plain": [
       "          11       12       13       14\n",
       "0        bcd  abcdefg   bcdefg     cdef\n",
       "1    abcdefg    abcfg   acdefg    abcfg\n",
       "2      bcefg  abcdefg      afg    acefg\n",
       "3      abcdg       be  abcdefg  abcdefg\n",
       "4      acdef      abf   abdefg   abcdfg\n",
       "..       ...      ...      ...      ...\n",
       "195    bcdef     bceg    bdefg       eg\n",
       "196   abcdeg       cg       cg    bcdeg\n",
       "197    acdeg   abcefg  abcdefg    bdefg\n",
       "198    bcdef     befg       fg       fg\n",
       "199    abdef    cdefg      bcd   bcdefg\n",
       "\n",
       "[200 rows x 4 columns]"
      ]
     },
     "execution_count": 3,
     "metadata": {},
     "output_type": "execute_result"
    }
   ],
   "source": [
    "four_digit_code = original_input.loc[:,11:]\n",
    "four_digit_code"
   ]
  },
  {
   "cell_type": "code",
   "execution_count": 4,
   "metadata": {},
   "outputs": [
    {
     "data": {
      "text/html": [
       "<div>\n",
       "<style scoped>\n",
       "    .dataframe tbody tr th:only-of-type {\n",
       "        vertical-align: middle;\n",
       "    }\n",
       "\n",
       "    .dataframe tbody tr th {\n",
       "        vertical-align: top;\n",
       "    }\n",
       "\n",
       "    .dataframe thead th {\n",
       "        text-align: right;\n",
       "    }\n",
       "</style>\n",
       "<table border=\"1\" class=\"dataframe\">\n",
       "  <thead>\n",
       "    <tr style=\"text-align: right;\">\n",
       "      <th></th>\n",
       "      <th>0</th>\n",
       "      <th>1</th>\n",
       "      <th>2</th>\n",
       "      <th>3</th>\n",
       "      <th>4</th>\n",
       "      <th>5</th>\n",
       "      <th>6</th>\n",
       "      <th>7</th>\n",
       "      <th>8</th>\n",
       "      <th>9</th>\n",
       "    </tr>\n",
       "  </thead>\n",
       "  <tbody>\n",
       "    <tr>\n",
       "      <th>0</th>\n",
       "      <td>6</td>\n",
       "      <td>6</td>\n",
       "      <td>2</td>\n",
       "      <td>5</td>\n",
       "      <td>6</td>\n",
       "      <td>7</td>\n",
       "      <td>4</td>\n",
       "      <td>3</td>\n",
       "      <td>5</td>\n",
       "      <td>5</td>\n",
       "    </tr>\n",
       "    <tr>\n",
       "      <th>1</th>\n",
       "      <td>7</td>\n",
       "      <td>2</td>\n",
       "      <td>5</td>\n",
       "      <td>4</td>\n",
       "      <td>3</td>\n",
       "      <td>6</td>\n",
       "      <td>5</td>\n",
       "      <td>6</td>\n",
       "      <td>6</td>\n",
       "      <td>5</td>\n",
       "    </tr>\n",
       "    <tr>\n",
       "      <th>2</th>\n",
       "      <td>2</td>\n",
       "      <td>3</td>\n",
       "      <td>6</td>\n",
       "      <td>4</td>\n",
       "      <td>5</td>\n",
       "      <td>7</td>\n",
       "      <td>6</td>\n",
       "      <td>5</td>\n",
       "      <td>6</td>\n",
       "      <td>5</td>\n",
       "    </tr>\n",
       "    <tr>\n",
       "      <th>3</th>\n",
       "      <td>6</td>\n",
       "      <td>3</td>\n",
       "      <td>7</td>\n",
       "      <td>5</td>\n",
       "      <td>5</td>\n",
       "      <td>6</td>\n",
       "      <td>5</td>\n",
       "      <td>4</td>\n",
       "      <td>6</td>\n",
       "      <td>2</td>\n",
       "    </tr>\n",
       "    <tr>\n",
       "      <th>4</th>\n",
       "      <td>5</td>\n",
       "      <td>2</td>\n",
       "      <td>5</td>\n",
       "      <td>6</td>\n",
       "      <td>3</td>\n",
       "      <td>4</td>\n",
       "      <td>6</td>\n",
       "      <td>5</td>\n",
       "      <td>7</td>\n",
       "      <td>6</td>\n",
       "    </tr>\n",
       "    <tr>\n",
       "      <th>...</th>\n",
       "      <td>...</td>\n",
       "      <td>...</td>\n",
       "      <td>...</td>\n",
       "      <td>...</td>\n",
       "      <td>...</td>\n",
       "      <td>...</td>\n",
       "      <td>...</td>\n",
       "      <td>...</td>\n",
       "      <td>...</td>\n",
       "      <td>...</td>\n",
       "    </tr>\n",
       "    <tr>\n",
       "      <th>195</th>\n",
       "      <td>7</td>\n",
       "      <td>5</td>\n",
       "      <td>5</td>\n",
       "      <td>3</td>\n",
       "      <td>6</td>\n",
       "      <td>2</td>\n",
       "      <td>4</td>\n",
       "      <td>6</td>\n",
       "      <td>6</td>\n",
       "      <td>5</td>\n",
       "    </tr>\n",
       "    <tr>\n",
       "      <th>196</th>\n",
       "      <td>6</td>\n",
       "      <td>5</td>\n",
       "      <td>4</td>\n",
       "      <td>2</td>\n",
       "      <td>6</td>\n",
       "      <td>6</td>\n",
       "      <td>5</td>\n",
       "      <td>3</td>\n",
       "      <td>5</td>\n",
       "      <td>7</td>\n",
       "    </tr>\n",
       "    <tr>\n",
       "      <th>197</th>\n",
       "      <td>2</td>\n",
       "      <td>6</td>\n",
       "      <td>4</td>\n",
       "      <td>5</td>\n",
       "      <td>5</td>\n",
       "      <td>6</td>\n",
       "      <td>3</td>\n",
       "      <td>7</td>\n",
       "      <td>5</td>\n",
       "      <td>6</td>\n",
       "    </tr>\n",
       "    <tr>\n",
       "      <th>198</th>\n",
       "      <td>6</td>\n",
       "      <td>5</td>\n",
       "      <td>6</td>\n",
       "      <td>7</td>\n",
       "      <td>4</td>\n",
       "      <td>6</td>\n",
       "      <td>5</td>\n",
       "      <td>2</td>\n",
       "      <td>3</td>\n",
       "      <td>5</td>\n",
       "    </tr>\n",
       "    <tr>\n",
       "      <th>199</th>\n",
       "      <td>5</td>\n",
       "      <td>2</td>\n",
       "      <td>5</td>\n",
       "      <td>6</td>\n",
       "      <td>4</td>\n",
       "      <td>7</td>\n",
       "      <td>6</td>\n",
       "      <td>5</td>\n",
       "      <td>6</td>\n",
       "      <td>3</td>\n",
       "    </tr>\n",
       "  </tbody>\n",
       "</table>\n",
       "<p>200 rows × 10 columns</p>\n",
       "</div>"
      ],
      "text/plain": [
       "     0  1  2  3  4  5  6  7  8  9\n",
       "0    6  6  2  5  6  7  4  3  5  5\n",
       "1    7  2  5  4  3  6  5  6  6  5\n",
       "2    2  3  6  4  5  7  6  5  6  5\n",
       "3    6  3  7  5  5  6  5  4  6  2\n",
       "4    5  2  5  6  3  4  6  5  7  6\n",
       "..  .. .. .. .. .. .. .. .. .. ..\n",
       "195  7  5  5  3  6  2  4  6  6  5\n",
       "196  6  5  4  2  6  6  5  3  5  7\n",
       "197  2  6  4  5  5  6  3  7  5  6\n",
       "198  6  5  6  7  4  6  5  2  3  5\n",
       "199  5  2  5  6  4  7  6  5  6  3\n",
       "\n",
       "[200 rows x 10 columns]"
      ]
     },
     "execution_count": 4,
     "metadata": {},
     "output_type": "execute_result"
    }
   ],
   "source": [
    "number_of_segments = ten_digits.applymap(len)\n",
    "number_of_segments"
   ]
  },
  {
   "cell_type": "code",
   "execution_count": 5,
   "metadata": {},
   "outputs": [
    {
     "data": {
      "text/html": [
       "<div>\n",
       "<style scoped>\n",
       "    .dataframe tbody tr th:only-of-type {\n",
       "        vertical-align: middle;\n",
       "    }\n",
       "\n",
       "    .dataframe tbody tr th {\n",
       "        vertical-align: top;\n",
       "    }\n",
       "\n",
       "    .dataframe thead th {\n",
       "        text-align: right;\n",
       "    }\n",
       "</style>\n",
       "<table border=\"1\" class=\"dataframe\">\n",
       "  <thead>\n",
       "    <tr style=\"text-align: right;\">\n",
       "      <th></th>\n",
       "      <th>a</th>\n",
       "      <th>b</th>\n",
       "      <th>c</th>\n",
       "      <th>d</th>\n",
       "      <th>e</th>\n",
       "      <th>f</th>\n",
       "      <th>g</th>\n",
       "    </tr>\n",
       "  </thead>\n",
       "  <tbody>\n",
       "    <tr>\n",
       "      <th>0</th>\n",
       "      <td>abcdefg</td>\n",
       "      <td>abcdefg</td>\n",
       "      <td>abcdefg</td>\n",
       "      <td>abcdefg</td>\n",
       "      <td>abcdefg</td>\n",
       "      <td>abcdefg</td>\n",
       "      <td>abcdefg</td>\n",
       "    </tr>\n",
       "    <tr>\n",
       "      <th>1</th>\n",
       "      <td>abcdefg</td>\n",
       "      <td>abcdefg</td>\n",
       "      <td>abcdefg</td>\n",
       "      <td>abcdefg</td>\n",
       "      <td>abcdefg</td>\n",
       "      <td>abcdefg</td>\n",
       "      <td>abcdefg</td>\n",
       "    </tr>\n",
       "    <tr>\n",
       "      <th>2</th>\n",
       "      <td>abcdefg</td>\n",
       "      <td>abcdefg</td>\n",
       "      <td>abcdefg</td>\n",
       "      <td>abcdefg</td>\n",
       "      <td>abcdefg</td>\n",
       "      <td>abcdefg</td>\n",
       "      <td>abcdefg</td>\n",
       "    </tr>\n",
       "    <tr>\n",
       "      <th>3</th>\n",
       "      <td>abcdefg</td>\n",
       "      <td>abcdefg</td>\n",
       "      <td>abcdefg</td>\n",
       "      <td>abcdefg</td>\n",
       "      <td>abcdefg</td>\n",
       "      <td>abcdefg</td>\n",
       "      <td>abcdefg</td>\n",
       "    </tr>\n",
       "    <tr>\n",
       "      <th>4</th>\n",
       "      <td>abcdefg</td>\n",
       "      <td>abcdefg</td>\n",
       "      <td>abcdefg</td>\n",
       "      <td>abcdefg</td>\n",
       "      <td>abcdefg</td>\n",
       "      <td>abcdefg</td>\n",
       "      <td>abcdefg</td>\n",
       "    </tr>\n",
       "    <tr>\n",
       "      <th>...</th>\n",
       "      <td>...</td>\n",
       "      <td>...</td>\n",
       "      <td>...</td>\n",
       "      <td>...</td>\n",
       "      <td>...</td>\n",
       "      <td>...</td>\n",
       "      <td>...</td>\n",
       "    </tr>\n",
       "    <tr>\n",
       "      <th>195</th>\n",
       "      <td>abcdefg</td>\n",
       "      <td>abcdefg</td>\n",
       "      <td>abcdefg</td>\n",
       "      <td>abcdefg</td>\n",
       "      <td>abcdefg</td>\n",
       "      <td>abcdefg</td>\n",
       "      <td>abcdefg</td>\n",
       "    </tr>\n",
       "    <tr>\n",
       "      <th>196</th>\n",
       "      <td>abcdefg</td>\n",
       "      <td>abcdefg</td>\n",
       "      <td>abcdefg</td>\n",
       "      <td>abcdefg</td>\n",
       "      <td>abcdefg</td>\n",
       "      <td>abcdefg</td>\n",
       "      <td>abcdefg</td>\n",
       "    </tr>\n",
       "    <tr>\n",
       "      <th>197</th>\n",
       "      <td>abcdefg</td>\n",
       "      <td>abcdefg</td>\n",
       "      <td>abcdefg</td>\n",
       "      <td>abcdefg</td>\n",
       "      <td>abcdefg</td>\n",
       "      <td>abcdefg</td>\n",
       "      <td>abcdefg</td>\n",
       "    </tr>\n",
       "    <tr>\n",
       "      <th>198</th>\n",
       "      <td>abcdefg</td>\n",
       "      <td>abcdefg</td>\n",
       "      <td>abcdefg</td>\n",
       "      <td>abcdefg</td>\n",
       "      <td>abcdefg</td>\n",
       "      <td>abcdefg</td>\n",
       "      <td>abcdefg</td>\n",
       "    </tr>\n",
       "    <tr>\n",
       "      <th>199</th>\n",
       "      <td>abcdefg</td>\n",
       "      <td>abcdefg</td>\n",
       "      <td>abcdefg</td>\n",
       "      <td>abcdefg</td>\n",
       "      <td>abcdefg</td>\n",
       "      <td>abcdefg</td>\n",
       "      <td>abcdefg</td>\n",
       "    </tr>\n",
       "  </tbody>\n",
       "</table>\n",
       "<p>200 rows × 7 columns</p>\n",
       "</div>"
      ],
      "text/plain": [
       "           a        b        c        d        e        f        g\n",
       "0    abcdefg  abcdefg  abcdefg  abcdefg  abcdefg  abcdefg  abcdefg\n",
       "1    abcdefg  abcdefg  abcdefg  abcdefg  abcdefg  abcdefg  abcdefg\n",
       "2    abcdefg  abcdefg  abcdefg  abcdefg  abcdefg  abcdefg  abcdefg\n",
       "3    abcdefg  abcdefg  abcdefg  abcdefg  abcdefg  abcdefg  abcdefg\n",
       "4    abcdefg  abcdefg  abcdefg  abcdefg  abcdefg  abcdefg  abcdefg\n",
       "..       ...      ...      ...      ...      ...      ...      ...\n",
       "195  abcdefg  abcdefg  abcdefg  abcdefg  abcdefg  abcdefg  abcdefg\n",
       "196  abcdefg  abcdefg  abcdefg  abcdefg  abcdefg  abcdefg  abcdefg\n",
       "197  abcdefg  abcdefg  abcdefg  abcdefg  abcdefg  abcdefg  abcdefg\n",
       "198  abcdefg  abcdefg  abcdefg  abcdefg  abcdefg  abcdefg  abcdefg\n",
       "199  abcdefg  abcdefg  abcdefg  abcdefg  abcdefg  abcdefg  abcdefg\n",
       "\n",
       "[200 rows x 7 columns]"
      ]
     },
     "execution_count": 5,
     "metadata": {},
     "output_type": "execute_result"
    }
   ],
   "source": [
    "possible_wirings = pd.DataFrame([['abcdefg']*7]*len(number_of_segments), columns=['a','b','c','d','e','f','g'])\n",
    "possible_wirings"
   ]
  },
  {
   "cell_type": "markdown",
   "metadata": {},
   "source": [
    "# Background info\n",
    "## Available coding (when wiring is not malfunctioning)\n",
    "\n",
    "\n",
    "```\n",
    "  0:      1:      2:      3:      4:\n",
    " aaaa    ....    aaaa    aaaa    ....\n",
    "b    c  .    c  .    c  .    c  b    c\n",
    "b    c  .    c  .    c  .    c  b    c\n",
    " ....    ....    dddd    dddd    dddd\n",
    "e    f  .    f  e    .  .    f  .    f\n",
    "e    f  .    f  e    .  .    f  .    f\n",
    " gggg    ....    gggg    gggg    ....\n",
    "\n",
    "  5:      6:      7:      8:      9:\n",
    " aaaa    aaaa    aaaa    aaaa    aaaa\n",
    "b    .  b    .  .    c  b    c  b    c\n",
    "b    .  b    .  .    c  b    c  b    c\n",
    " dddd    dddd    ....    dddd    dddd\n",
    ".    f  e    f  .    f  e    f  .    f\n",
    ".    f  e    f  .    f  e    f  .    f\n",
    " gggg    gggg    ....    gggg    gggg\n",
    " ```\n"
   ]
  },
  {
   "cell_type": "markdown",
   "metadata": {},
   "source": [
    "# Part A"
   ]
  },
  {
   "cell_type": "markdown",
   "metadata": {},
   "source": [
    "## Assignment\n",
    "the basis is that you try to figure out which columns in `ten_digits` correspond to which digit. Then don't have to know he exact mapping"
   ]
  },
  {
   "cell_type": "markdown",
   "metadata": {},
   "source": [
    "## Prepare some helper dataframes\n",
    "One df for each digit, which should yield one `True` per row at the column that codes for that number"
   ]
  },
  {
   "cell_type": "code",
   "execution_count": 8,
   "metadata": {},
   "outputs": [],
   "source": [
    "df1 = ten_digits.copy()\n",
    "df1.loc[:,:]= False\n",
    "df2 = df1.copy()\n",
    "df3 = df1.copy()\n",
    "df4 = df1.copy()\n",
    "df5 = df1.copy()\n",
    "df6 = df1.copy()\n",
    "df7 = df1.copy()\n",
    "df8 = df1.copy()\n",
    "df9 = df1.copy()\n",
    "df0 = df1.copy()"
   ]
  },
  {
   "cell_type": "code",
   "execution_count": 9,
   "metadata": {},
   "outputs": [],
   "source": [
    "def return_only_str_of_segments(df, nth_match=0):\n",
    "    return df.apply(lambda x: x[~x.isna()].values[nth_match], axis=1)\n",
    "    \n",
    "def check_for_uniqueness(df, msg):\n",
    "    '''A function that checks if the df has only one True value per row and \n",
    "    returns the df with strings values'''\n",
    "    if not (df.sum(axis=1).unique() == np.array([1], dtype=np.int64)):\n",
    "        raise ValueError(msg)\n",
    "    return return_only_str_of_segments(ten_digits[df])"
   ]
  },
  {
   "cell_type": "markdown",
   "metadata": {},
   "source": [
    "### number 1"
   ]
  },
  {
   "cell_type": "markdown",
   "metadata": {},
   "source": [
    "There is only one that has two segments, so that should match to the number one"
   ]
  },
  {
   "cell_type": "code",
   "execution_count": 10,
   "metadata": {},
   "outputs": [
    {
     "data": {
      "text/plain": [
       "0    cd\n",
       "1    df\n",
       "2    ag\n",
       "3    be\n",
       "4    ab\n",
       "dtype: object"
      ]
     },
     "execution_count": 10,
     "metadata": {},
     "output_type": "execute_result"
    }
   ],
   "source": [
    "row_id = 0\n",
    "# row = ten_digits.loc[row_id,:]\n",
    "df1 = number_of_segments == 2\n",
    "number_one = check_for_uniqueness(df1, \"Some rows do not have exactly one string of length 2\")\n",
    "number_one.head()"
   ]
  },
  {
   "cell_type": "markdown",
   "metadata": {},
   "source": [
    "### number 7"
   ]
  },
  {
   "cell_type": "markdown",
   "metadata": {},
   "source": [
    "There is only one that has three segments, so that should match to the number seven"
   ]
  },
  {
   "cell_type": "code",
   "execution_count": 11,
   "metadata": {},
   "outputs": [
    {
     "data": {
      "text/plain": [
       "0    bcd\n",
       "1    cdf\n",
       "2    afg\n",
       "3    bde\n",
       "4    abf\n",
       "dtype: object"
      ]
     },
     "execution_count": 11,
     "metadata": {},
     "output_type": "execute_result"
    }
   ],
   "source": [
    "row_id = 0\n",
    "# row = ten_digits.loc[row_id,:]\n",
    "df7 = number_of_segments == 3\n",
    "number_seven = check_for_uniqueness(df7, \"Some rows do not have exactly one string with lenggth 3\")\n",
    "number_seven.head()"
   ]
  },
  {
   "cell_type": "markdown",
   "metadata": {},
   "source": [
    "### number 4"
   ]
  },
  {
   "cell_type": "markdown",
   "metadata": {},
   "source": [
    "There is only one that has four segments, so that should match to the number four"
   ]
  },
  {
   "cell_type": "code",
   "execution_count": 12,
   "metadata": {},
   "outputs": [
    {
     "data": {
      "text/plain": [
       "0    cdef\n",
       "1    bdef\n",
       "2    abeg\n",
       "3    befg\n",
       "4    abeg\n",
       "dtype: object"
      ]
     },
     "execution_count": 12,
     "metadata": {},
     "output_type": "execute_result"
    }
   ],
   "source": [
    "row_id = 0\n",
    "# row = ten_digits.loc[row_id,:]\n",
    "df4 = number_of_segments == 4\n",
    "number_four = check_for_uniqueness(df4, \"Some rows do not have exactly one string with length 4\")\n",
    "number_four.head()"
   ]
  },
  {
   "cell_type": "markdown",
   "metadata": {},
   "source": [
    "### number 3"
   ]
  },
  {
   "cell_type": "markdown",
   "metadata": {},
   "source": [
    "There is only one that has five segments, of which 2 of them coincide with the segments of number one. So that should match to the number three"
   ]
  },
  {
   "cell_type": "code",
   "execution_count": 59,
   "metadata": {},
   "outputs": [
    {
     "data": {
      "text/plain": [
       "0      bcdeg\n",
       "1      bcdfg\n",
       "2      acefg\n",
       "3      abdeg\n",
       "4      abdef\n",
       "       ...  \n",
       "195    bdefg\n",
       "196    bcdeg\n",
       "197    adefg\n",
       "198    bcdfg\n",
       "199    bcdef\n",
       "Length: 200, dtype: object"
      ]
     },
     "execution_count": 59,
     "metadata": {},
     "output_type": "execute_result"
    }
   ],
   "source": [
    "df3 = number_of_segments == 5\n",
    "number_three = ten_digits[df3]\n",
    "for row_idx, row_i in number_three.iterrows():\n",
    "#     row_i\n",
    "# x = 'df'\n",
    "# (number_one.loc[row_idx][0] in x) and (number_one.loc[row_idx][1] in x)\n",
    "    col_idx = row_i.loc[~row_i.isna()].apply(lambda x: (number_one.loc[row_idx][0] in x) and (number_one.loc[row_idx][1] in x))\n",
    "    df3.loc[row_idx,:]=False\n",
    "    df3.loc[row_idx, col_idx.loc[col_idx].index] =  True\n",
    "# number_three = ten_digits[df3]\n",
    "number_three = check_for_uniqueness(df3, \"not unique number three determined\")\n",
    "number_three\n",
    "# col_idx.loc[col_idx].index\n",
    "\n",
    "# return_only_str_of_segments(ten_digits[df3], nth_match=pd.IndexSlice[:])\n",
    "# check_for_uniqueness(df3, \"Some rows do not have exactly one string with length 5\")\n"
   ]
  },
  {
   "cell_type": "markdown",
   "metadata": {},
   "source": [
    "### Number 5"
   ]
  },
  {
   "cell_type": "markdown",
   "metadata": {},
   "source": [
    "There is only one number that has 3 segments in common with `number_four` while having a length of `5`. That is `number_five`. \n"
   ]
  },
  {
   "cell_type": "code",
   "execution_count": 86,
   "metadata": {},
   "outputs": [
    {
     "data": {
      "text/plain": [
       "0      bdefg\n",
       "1      bcdeg\n",
       "2      bcefg\n",
       "3      adefg\n",
       "4      bdefg\n",
       "       ...  \n",
       "195    bcdef\n",
       "196    abdeg\n",
       "197    acdeg\n",
       "198    bcdef\n",
       "199    cdefg\n",
       "Length: 200, dtype: object"
      ]
     },
     "execution_count": 86,
     "metadata": {},
     "output_type": "execute_result"
    }
   ],
   "source": [
    "df5 = (number_of_segments == 5) & (~df3)\n",
    "for row_idx, row_i in ten_digits[df5].iterrows():\n",
    "    pass\n",
    "    col_idx = row_i.loc[~row_i.isna()].apply(lambda x: len(set(x).intersection(set(number_four.loc[row_idx])))==3)\n",
    "    df5.loc[row_idx,:]=False\n",
    "    df5.loc[row_idx, col_idx.loc[col_idx].index] =  True\n",
    "number_five = check_for_uniqueness(df5, \"not unique number five determined\")\n",
    "number_five"
   ]
  },
  {
   "cell_type": "markdown",
   "metadata": {},
   "source": [
    "### Number 2\n",
    "Number two is the only number with 5 segments which is not number three or five"
   ]
  },
  {
   "cell_type": "code",
   "execution_count": 87,
   "metadata": {},
   "outputs": [
    {
     "data": {
      "text/plain": [
       "0    abceg\n",
       "1    abcfg\n",
       "2    acdef\n",
       "3    abcdg\n",
       "4    acdef\n",
       "dtype: object"
      ]
     },
     "execution_count": 87,
     "metadata": {},
     "output_type": "execute_result"
    }
   ],
   "source": [
    "df2 = (number_of_segments == 5) & (~df3) & (~df5)\n",
    "number_two = check_for_uniqueness(df2, \"2 not unique\")\n",
    "number_two.head()"
   ]
  },
  {
   "cell_type": "markdown",
   "metadata": {},
   "source": [
    "### Number 6\n",
    "Number six is the only one that has 6 segments of which only 1 coincides with `number_one` "
   ]
  },
  {
   "cell_type": "code",
   "execution_count": 88,
   "metadata": {},
   "outputs": [
    {
     "data": {
      "text/plain": [
       "0      abdefg\n",
       "1      abcdeg\n",
       "2      bcdefg\n",
       "3      acdefg\n",
       "4      bcdefg\n",
       "        ...  \n",
       "195    abcdef\n",
       "196    abdefg\n",
       "197    abcdeg\n",
       "198    abcdef\n",
       "199    acdefg\n",
       "Length: 200, dtype: object"
      ]
     },
     "execution_count": 88,
     "metadata": {},
     "output_type": "execute_result"
    }
   ],
   "source": [
    "df6 = (number_of_segments == 6) \n",
    "for row_idx, row_i in ten_digits[df6].iterrows():\n",
    "    col_idx = row_i.loc[~row_i.isna()].apply(lambda x: len(set(x).intersection(set(number_one.loc[row_idx])))==1)\n",
    "    df6.loc[row_idx,:]=False\n",
    "    df6.loc[row_idx, col_idx.loc[col_idx].index] =  True\n",
    "number_six = check_for_uniqueness(df6, \"not unique number five determined\")\n",
    "number_six"
   ]
  },
  {
   "cell_type": "markdown",
   "metadata": {},
   "source": [
    "### Number 9\n",
    "Number nine is the only one that has 6 segments of which only 5 coincides with `number_three` "
   ]
  },
  {
   "cell_type": "code",
   "execution_count": 89,
   "metadata": {},
   "outputs": [
    {
     "data": {
      "text/plain": [
       "0      bcdefg\n",
       "1      bcdefg\n",
       "2      abcefg\n",
       "3      abdefg\n",
       "4      abdefg\n",
       "        ...  \n",
       "195    bcdefg\n",
       "196    abcdeg\n",
       "197    acdefg\n",
       "198    bcdefg\n",
       "199    bcdefg\n",
       "Length: 200, dtype: object"
      ]
     },
     "execution_count": 89,
     "metadata": {},
     "output_type": "execute_result"
    }
   ],
   "source": [
    "df9 = (number_of_segments == 6) \n",
    "for row_idx, row_i in ten_digits[df9].iterrows():\n",
    "    col_idx = row_i.loc[~row_i.isna()].apply(lambda x: len(set(x).intersection(set(number_three.loc[row_idx])))==5)\n",
    "    df9.loc[row_idx,:]=False\n",
    "    df9.loc[row_idx, col_idx.loc[col_idx].index] =  True\n",
    "number_nine = check_for_uniqueness(df9, \"not unique number five determined\")\n",
    "number_nine"
   ]
  },
  {
   "cell_type": "markdown",
   "metadata": {},
   "source": [
    "### Number 0\n",
    "Number zero is the only one that has 6 segments that is not a number 6 or 9"
   ]
  },
  {
   "cell_type": "code",
   "execution_count": 90,
   "metadata": {},
   "outputs": [
    {
     "data": {
      "text/plain": [
       "0      abcdfg\n",
       "1      acdefg\n",
       "2      abcdfg\n",
       "3      abcdef\n",
       "4      abcdfg\n",
       "        ...  \n",
       "195    acdefg\n",
       "196    acdefg\n",
       "197    abcefg\n",
       "198    acdefg\n",
       "199    abcdfg\n",
       "Length: 200, dtype: object"
      ]
     },
     "execution_count": 90,
     "metadata": {},
     "output_type": "execute_result"
    }
   ],
   "source": [
    "df0 = (number_of_segments == 6) & (~df6) & (~df9)\n",
    "number_zero = check_for_uniqueness(df0, \"not unique number five determined\")\n",
    "number_zero"
   ]
  },
  {
   "cell_type": "markdown",
   "metadata": {},
   "source": [
    "###  Number 8\n",
    "Number eight is the only one with all 7 number_of_segments"
   ]
  },
  {
   "cell_type": "code",
   "execution_count": 93,
   "metadata": {},
   "outputs": [
    {
     "data": {
      "text/plain": [
       "0      abcdefg\n",
       "1      abcdefg\n",
       "2      abcdefg\n",
       "3      abcdefg\n",
       "4      abcdefg\n",
       "        ...   \n",
       "195    abcdefg\n",
       "196    abcdefg\n",
       "197    abcdefg\n",
       "198    abcdefg\n",
       "199    abcdefg\n",
       "Length: 200, dtype: object"
      ]
     },
     "execution_count": 93,
     "metadata": {},
     "output_type": "execute_result"
    }
   ],
   "source": [
    "df8 = (number_of_segments == 7)\n",
    "number_eight = check_for_uniqueness(df8, \"Number eight nog unique\")\n",
    "number_eight"
   ]
  },
  {
   "cell_type": "markdown",
   "metadata": {},
   "source": [
    "## All number are resolved, next step?\n",
    "Check what answer is required by the test. this can probably be given by the lookup tables."
   ]
  },
  {
   "cell_type": "markdown",
   "metadata": {},
   "source": []
  }
 ],
 "metadata": {
  "interpreter": {
   "hash": "849a49f3c97c4464b4ee2c34e7b9f01293c96a49a53d4ae2694e931c378ee2ec"
  },
  "kernelspec": {
   "display_name": "Python 3.9.1 64-bit ('base': conda)",
   "language": "python",
   "name": "python3"
  },
  "language_info": {
   "codemirror_mode": {
    "name": "ipython",
    "version": 3
   },
   "file_extension": ".py",
   "mimetype": "text/x-python",
   "name": "python",
   "nbconvert_exporter": "python",
   "pygments_lexer": "ipython3",
   "version": "3.9.1"
  },
  "orig_nbformat": 4
 },
 "nbformat": 4,
 "nbformat_minor": 2
}
