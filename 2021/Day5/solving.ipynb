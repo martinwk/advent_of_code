{
 "cells": [
  {
   "cell_type": "code",
   "execution_count": 177,
   "metadata": {},
   "outputs": [],
   "source": [
    "import pandas as pd\n",
    "import numpy as np\n",
    "import re\n"
   ]
  },
  {
   "cell_type": "markdown",
   "metadata": {},
   "source": [
    "# import data"
   ]
  },
  {
   "cell_type": "code",
   "execution_count": 178,
   "metadata": {},
   "outputs": [
    {
     "data": {
      "text/html": [
       "<div>\n",
       "<style scoped>\n",
       "    .dataframe tbody tr th:only-of-type {\n",
       "        vertical-align: middle;\n",
       "    }\n",
       "\n",
       "    .dataframe tbody tr th {\n",
       "        vertical-align: top;\n",
       "    }\n",
       "\n",
       "    .dataframe thead th {\n",
       "        text-align: right;\n",
       "    }\n",
       "</style>\n",
       "<table border=\"1\" class=\"dataframe\">\n",
       "  <thead>\n",
       "    <tr style=\"text-align: right;\">\n",
       "      <th></th>\n",
       "      <th>x1</th>\n",
       "      <th>y1</th>\n",
       "      <th>x2</th>\n",
       "      <th>y2</th>\n",
       "    </tr>\n",
       "  </thead>\n",
       "  <tbody>\n",
       "    <tr>\n",
       "      <th>0</th>\n",
       "      <td>0</td>\n",
       "      <td>9</td>\n",
       "      <td>5</td>\n",
       "      <td>9</td>\n",
       "    </tr>\n",
       "    <tr>\n",
       "      <th>1</th>\n",
       "      <td>8</td>\n",
       "      <td>0</td>\n",
       "      <td>0</td>\n",
       "      <td>8</td>\n",
       "    </tr>\n",
       "    <tr>\n",
       "      <th>2</th>\n",
       "      <td>9</td>\n",
       "      <td>4</td>\n",
       "      <td>3</td>\n",
       "      <td>4</td>\n",
       "    </tr>\n",
       "    <tr>\n",
       "      <th>3</th>\n",
       "      <td>2</td>\n",
       "      <td>2</td>\n",
       "      <td>2</td>\n",
       "      <td>1</td>\n",
       "    </tr>\n",
       "    <tr>\n",
       "      <th>4</th>\n",
       "      <td>7</td>\n",
       "      <td>0</td>\n",
       "      <td>7</td>\n",
       "      <td>4</td>\n",
       "    </tr>\n",
       "  </tbody>\n",
       "</table>\n",
       "</div>"
      ],
      "text/plain": [
       "   x1  y1  x2  y2\n",
       "0   0   9   5   9\n",
       "1   8   0   0   8\n",
       "2   9   4   3   4\n",
       "3   2   2   2   1\n",
       "4   7   0   7   4"
      ]
     },
     "execution_count": 178,
     "metadata": {},
     "output_type": "execute_result"
    }
   ],
   "source": [
    "example = pd.read_csv('example.txt',header=None, sep=',', engine='python')\n",
    "example['x2y1'] = example[1].apply(lambda x: re.split('\\s+->\\s+',x))\n",
    "example['x1'] = example[0]\n",
    "example['y1'] = example['x2y1'].apply(lambda x: int(x[0]))\n",
    "example['x2'] = example['x2y1'].apply(lambda x: int(x[1]))\n",
    "example['y2'] = example[2]\n",
    "example.drop([0,1,2,'x2y1'], axis=1, inplace=True)\n",
    "example.head()"
   ]
  },
  {
   "cell_type": "code",
   "execution_count": 179,
   "metadata": {},
   "outputs": [
    {
     "data": {
      "text/html": [
       "<div>\n",
       "<style scoped>\n",
       "    .dataframe tbody tr th:only-of-type {\n",
       "        vertical-align: middle;\n",
       "    }\n",
       "\n",
       "    .dataframe tbody tr th {\n",
       "        vertical-align: top;\n",
       "    }\n",
       "\n",
       "    .dataframe thead th {\n",
       "        text-align: right;\n",
       "    }\n",
       "</style>\n",
       "<table border=\"1\" class=\"dataframe\">\n",
       "  <thead>\n",
       "    <tr style=\"text-align: right;\">\n",
       "      <th></th>\n",
       "      <th>x1</th>\n",
       "      <th>y1</th>\n",
       "      <th>x2</th>\n",
       "      <th>y2</th>\n",
       "    </tr>\n",
       "  </thead>\n",
       "  <tbody>\n",
       "    <tr>\n",
       "      <th>0</th>\n",
       "      <td>88</td>\n",
       "      <td>177</td>\n",
       "      <td>566</td>\n",
       "      <td>655</td>\n",
       "    </tr>\n",
       "    <tr>\n",
       "      <th>1</th>\n",
       "      <td>346</td>\n",
       "      <td>264</td>\n",
       "      <td>872</td>\n",
       "      <td>264</td>\n",
       "    </tr>\n",
       "    <tr>\n",
       "      <th>2</th>\n",
       "      <td>409</td>\n",
       "      <td>631</td>\n",
       "      <td>506</td>\n",
       "      <td>534</td>\n",
       "    </tr>\n",
       "    <tr>\n",
       "      <th>3</th>\n",
       "      <td>300</td>\n",
       "      <td>216</td>\n",
       "      <td>300</td>\n",
       "      <td>507</td>\n",
       "    </tr>\n",
       "    <tr>\n",
       "      <th>4</th>\n",
       "      <td>80</td>\n",
       "      <td>370</td>\n",
       "      <td>193</td>\n",
       "      <td>483</td>\n",
       "    </tr>\n",
       "  </tbody>\n",
       "</table>\n",
       "</div>"
      ],
      "text/plain": [
       "    x1   y1   x2   y2\n",
       "0   88  177  566  655\n",
       "1  346  264  872  264\n",
       "2  409  631  506  534\n",
       "3  300  216  300  507\n",
       "4   80  370  193  483"
      ]
     },
     "execution_count": 179,
     "metadata": {},
     "output_type": "execute_result"
    }
   ],
   "source": [
    "original_input = pd.read_csv('input.txt',header=None, sep=',', engine='python')\n",
    "original_input['x2y1'] = original_input[1].apply(lambda x: re.split('\\s+->\\s+',x))\n",
    "original_input['x1'] = original_input[0]\n",
    "original_input['y1'] = original_input['x2y1'].apply(lambda x: int(x[0]))\n",
    "original_input['x2'] = original_input['x2y1'].apply(lambda x: int(x[1]))\n",
    "original_input['y2'] = original_input[2]\n",
    "original_input.drop([0,1,2,'x2y1'], axis=1, inplace=True)\n",
    "original_input.head()"
   ]
  },
  {
   "cell_type": "code",
   "execution_count": 199,
   "metadata": {},
   "outputs": [
    {
     "data": {
      "text/html": [
       "<div>\n",
       "<style scoped>\n",
       "    .dataframe tbody tr th:only-of-type {\n",
       "        vertical-align: middle;\n",
       "    }\n",
       "\n",
       "    .dataframe tbody tr th {\n",
       "        vertical-align: top;\n",
       "    }\n",
       "\n",
       "    .dataframe thead th {\n",
       "        text-align: right;\n",
       "    }\n",
       "</style>\n",
       "<table border=\"1\" class=\"dataframe\">\n",
       "  <thead>\n",
       "    <tr style=\"text-align: right;\">\n",
       "      <th></th>\n",
       "      <th>x1</th>\n",
       "      <th>y1</th>\n",
       "      <th>x2</th>\n",
       "      <th>y2</th>\n",
       "    </tr>\n",
       "  </thead>\n",
       "  <tbody>\n",
       "    <tr>\n",
       "      <th>0</th>\n",
       "      <td>88</td>\n",
       "      <td>177</td>\n",
       "      <td>566</td>\n",
       "      <td>655</td>\n",
       "    </tr>\n",
       "    <tr>\n",
       "      <th>1</th>\n",
       "      <td>346</td>\n",
       "      <td>264</td>\n",
       "      <td>872</td>\n",
       "      <td>264</td>\n",
       "    </tr>\n",
       "    <tr>\n",
       "      <th>2</th>\n",
       "      <td>409</td>\n",
       "      <td>631</td>\n",
       "      <td>506</td>\n",
       "      <td>534</td>\n",
       "    </tr>\n",
       "    <tr>\n",
       "      <th>3</th>\n",
       "      <td>300</td>\n",
       "      <td>216</td>\n",
       "      <td>300</td>\n",
       "      <td>507</td>\n",
       "    </tr>\n",
       "    <tr>\n",
       "      <th>4</th>\n",
       "      <td>80</td>\n",
       "      <td>370</td>\n",
       "      <td>193</td>\n",
       "      <td>483</td>\n",
       "    </tr>\n",
       "  </tbody>\n",
       "</table>\n",
       "</div>"
      ],
      "text/plain": [
       "    x1   y1   x2   y2\n",
       "0   88  177  566  655\n",
       "1  346  264  872  264\n",
       "2  409  631  506  534\n",
       "3  300  216  300  507\n",
       "4   80  370  193  483"
      ]
     },
     "execution_count": 199,
     "metadata": {},
     "output_type": "execute_result"
    }
   ],
   "source": [
    "# line_segments = example.copy().astype(int)\n",
    "line_segments = original_input.copy().astype(int)#example.copy()\n",
    "line_segments.head()"
   ]
  },
  {
   "cell_type": "code",
   "execution_count": 200,
   "metadata": {},
   "outputs": [
    {
     "data": {
      "text/plain": [
       "((10, 987), (11, 989))"
      ]
     },
     "execution_count": 200,
     "metadata": {},
     "output_type": "execute_result"
    }
   ],
   "source": [
    "xmin = line_segments[['x1', 'x2']].min().min()\n",
    "xmax = line_segments[['x1', 'x2']].max().max()\n",
    "ymin = line_segments[['y1', 'y2']].min().min()\n",
    "ymax = line_segments[['y1', 'y2']].max().max()\n",
    "((xmin, xmax),(ymin, ymax))"
   ]
  },
  {
   "cell_type": "code",
   "execution_count": 201,
   "metadata": {},
   "outputs": [
    {
     "data": {
      "text/plain": [
       "array([[0, 0, 0, ..., 0, 0, 0],\n",
       "       [0, 0, 0, ..., 0, 0, 0],\n",
       "       [0, 0, 0, ..., 0, 0, 0],\n",
       "       ...,\n",
       "       [0, 0, 0, ..., 0, 0, 0],\n",
       "       [0, 0, 0, ..., 0, 0, 0],\n",
       "       [0, 0, 0, ..., 0, 0, 0]])"
      ]
     },
     "execution_count": 201,
     "metadata": {},
     "output_type": "execute_result"
    }
   ],
   "source": [
    "initial_board = np.zeros((xmax+1, ymax+1)).astype(int)\n",
    "initial_board"
   ]
  },
  {
   "cell_type": "markdown",
   "metadata": {},
   "source": [
    "# Find number of lines crossing each point\n",
    "loop over all lines and increase counter in board of the points the line crosses"
   ]
  },
  {
   "cell_type": "code",
   "execution_count": 202,
   "metadata": {},
   "outputs": [
    {
     "data": {
      "text/plain": [
       "5835"
      ]
     },
     "execution_count": 202,
     "metadata": {},
     "output_type": "execute_result"
    }
   ],
   "source": [
    "board_w_counters = initial_board.copy()\n",
    "for idx, row in line_segments.iterrows():\n",
    "    x1 = min(row.x1, row.x2)\n",
    "    x2 = max(row.x1, row.x2)\n",
    "    y1 = min(row.y1, row.y2)\n",
    "    y2 = max(row.y1, row.y2)\n",
    "    if (row.x1 == row.x2) or (row.y1 == row.y2):\n",
    "        board_w_counters[x1:x2+1, y1:y2+1] = board_w_counters[x1:x2+1, y1:y2+1] + 1\n",
    "(board_w_counters >= 2).sum(axis=None)"
   ]
  },
  {
   "cell_type": "code",
   "execution_count": 203,
   "metadata": {},
   "outputs": [
    {
     "data": {
      "text/plain": [
       "array([[0, 0, 0, ..., 0, 0, 0],\n",
       "       [0, 0, 0, ..., 0, 0, 0],\n",
       "       [0, 0, 0, ..., 0, 0, 0],\n",
       "       ...,\n",
       "       [0, 0, 0, ..., 0, 0, 0],\n",
       "       [0, 0, 0, ..., 0, 0, 0],\n",
       "       [0, 0, 0, ..., 0, 0, 0]])"
      ]
     },
     "execution_count": 203,
     "metadata": {},
     "output_type": "execute_result"
    }
   ],
   "source": [
    "board_w_counters"
   ]
  },
  {
   "cell_type": "markdown",
   "metadata": {},
   "source": [
    "# Part B"
   ]
  },
  {
   "cell_type": "code",
   "execution_count": 204,
   "metadata": {},
   "outputs": [
    {
     "name": "stdout",
     "output_type": "stream",
     "text": [
      "[[1 2]\n",
      " [2 3]\n",
      " [3 4]]\n"
     ]
    }
   ],
   "source": [
    "# create list of indices from diagonal\n",
    "x1=1\n",
    "x2=3\n",
    "y1=2\n",
    "y2=4\n",
    "# points that it crosses: (1,2), (2,3), (3,4)\n",
    "points = np.array([(int(x1+p_i), int(y1+p_i)) for p_i in range(0,x2-x1+1)])\n",
    "test_board = board_w_counters.copy()[:5,:5]\n",
    "print(points)"
   ]
  },
  {
   "cell_type": "code",
   "execution_count": 205,
   "metadata": {},
   "outputs": [
    {
     "data": {
      "text/plain": [
       "17013"
      ]
     },
     "execution_count": 205,
     "metadata": {},
     "output_type": "execute_result"
    }
   ],
   "source": [
    "board_w_counters = initial_board.copy()\n",
    "for idx, row in line_segments.iterrows():\n",
    "    x1 = min(row.x1, row.x2)\n",
    "    x2 = max(row.x1, row.x2)\n",
    "    y1 = min(row.y1, row.y2)\n",
    "    y2 = max(row.y1, row.y2)\n",
    "    if (row.x1 == row.x2) or (row.y1 == row.y2):\n",
    "        board_w_counters[x1:x2+1, y1:y2+1] += 1#board_w_counters[x1:x2+1, y1:y2+1] + 1\n",
    "    elif y2-y1 == x2-x1:\n",
    "        indices = [(x1+p_i, y1+p_i) for p_i in range(0,x2-x1+1)]\n",
    "        if row.x2 > row.x1:\n",
    "            x_inc = 1\n",
    "        else:\n",
    "            x_inc = -1\n",
    "        if row.y2 > row.y1:\n",
    "            y_inc = 1\n",
    "        else:\n",
    "            y_inc = -1\n",
    "        points = np.array([(int(row.x1+x_inc*p_i), int(row.y1+y_inc*p_i)) for p_i in range(0,x2-x1+1)])\n",
    "        for point_x, point_y in points:\n",
    "            board_w_counters[point_x, point_y] += 1\n",
    "    else:\n",
    "        print((row, ))\n",
    "        \n",
    "(board_w_counters >= 2).sum(axis=None)"
   ]
  },
  {
   "cell_type": "code",
   "execution_count": 198,
   "metadata": {},
   "outputs": [
    {
     "data": {
      "text/plain": [
       "array([[1, 0, 1, 0, 0, 0, 0, 1, 1, 0],\n",
       "       [0, 1, 1, 1, 0, 0, 0, 2, 0, 0],\n",
       "       [0, 0, 2, 0, 1, 0, 1, 1, 1, 0],\n",
       "       [0, 0, 0, 1, 0, 2, 0, 2, 0, 0],\n",
       "       [0, 1, 1, 2, 3, 1, 3, 2, 1, 1],\n",
       "       [0, 0, 0, 1, 0, 2, 0, 0, 0, 0],\n",
       "       [0, 0, 1, 0, 0, 0, 1, 0, 0, 0],\n",
       "       [0, 1, 0, 0, 0, 0, 0, 1, 0, 0],\n",
       "       [1, 0, 0, 0, 0, 0, 0, 0, 1, 0],\n",
       "       [2, 2, 2, 1, 1, 1, 0, 0, 0, 0]])"
      ]
     },
     "execution_count": 198,
     "metadata": {},
     "output_type": "execute_result"
    }
   ],
   "source": [
    "board_w_counters.transpose()"
   ]
  },
  {
   "cell_type": "code",
   "execution_count": null,
   "metadata": {},
   "outputs": [],
   "source": []
  }
 ],
 "metadata": {
  "interpreter": {
   "hash": "849a49f3c97c4464b4ee2c34e7b9f01293c96a49a53d4ae2694e931c378ee2ec"
  },
  "kernelspec": {
   "display_name": "Python 3.9.1 64-bit ('base': conda)",
   "language": "python",
   "name": "python3"
  },
  "language_info": {
   "codemirror_mode": {
    "name": "ipython",
    "version": 3
   },
   "file_extension": ".py",
   "mimetype": "text/x-python",
   "name": "python",
   "nbconvert_exporter": "python",
   "pygments_lexer": "ipython3",
   "version": "3.9.1"
  },
  "orig_nbformat": 4
 },
 "nbformat": 4,
 "nbformat_minor": 2
}
