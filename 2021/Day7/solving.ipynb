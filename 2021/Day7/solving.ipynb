{
 "cells": [
  {
   "cell_type": "code",
   "execution_count": 1,
   "metadata": {},
   "outputs": [],
   "source": [
    "import pandas as pd\n",
    "import numpy as np\n",
    "import re\n"
   ]
  },
  {
   "cell_type": "markdown",
   "metadata": {},
   "source": [
    "# import data"
   ]
  },
  {
   "cell_type": "code",
   "execution_count": 29,
   "metadata": {},
   "outputs": [
    {
     "data": {
      "text/plain": [
       "array([16,  1,  2,  0,  4,  2,  7,  1,  2, 14], dtype=int64)"
      ]
     },
     "execution_count": 29,
     "metadata": {},
     "output_type": "execute_result"
    }
   ],
   "source": [
    "example = pd.read_csv('example.txt',header=None, sep=',', engine='python').values[0]\n",
    "example"
   ]
  },
  {
   "cell_type": "code",
   "execution_count": 30,
   "metadata": {},
   "outputs": [
    {
     "data": {
      "text/plain": [
       "array([1101,    1,   29,   67, 1102,    0,    1,   65, 1008,   65,   35,\n",
       "         66, 1005,   66,   28,    1,   67,   65,   20,    4,    0, 1001,\n",
       "         65,    1,   65, 1106,    0,    8,   99,   35,   67,  101,   99,\n",
       "        105,   32,  110,   39,  101,  115,  116,   32,  112,   97,  115,\n",
       "         32,  117,  110,  101,   32,  105,  110,  116,   99,  111,  100,\n",
       "        101,   32,  112,  114,  111,  103,  114,   97,  109,   10,   14,\n",
       "         94,  153,  512, 1778, 1219,  522,  207,  112,  148, 1185,  380,\n",
       "        530,  502,  957,  898,   71,   10,  719,   47,   51,  188,  188,\n",
       "       1277,  446,  156,  188,  990,  370,  549, 1086,   49,  150,   42,\n",
       "         50,  976,  456,   24,  526,  183,  206,  887,    3,  487,   11,\n",
       "        111,  933, 1059,   51,  439,   30,  258,  901,   19, 1207,  718,\n",
       "        404,  498,   79,   83,   58,  520,  267,  109,  933,    4,  174,\n",
       "        748,   66,  463,  514,  378,  708,  103, 1073,  364,  224,  254,\n",
       "         28,  196,   95,   30,  567,  633,  943,    3,   63, 1369, 1754,\n",
       "        342,  651,  139,    8,   10,  535,    1,  841,   89,  306,   86,\n",
       "        621,   51,  872,  806,  212,  926,  930,  390,  665,  163,  291,\n",
       "        357,  724,  861,  106,  793,  222,   33,  215,   81, 1100,  641,\n",
       "        813, 1073,  276, 1416,  991,  318,  505, 1112, 1556, 1309, 1222,\n",
       "        504,   72,  126, 1143,  261,  347, 1022,  668,  146,  111,  982,\n",
       "        250,  247,  589,   42,   99,  305,  722, 1286,  732,   16,  248,\n",
       "        234,  140,  492, 1229,  342,  204,  113,  137,  597,   44,   78,\n",
       "        484,  285,  431,  502,  258, 1329, 1143,  364,  814,    0,  489,\n",
       "       1070,  837,   56,   17,  784,  636,  809,  342,   50,  713,   71,\n",
       "        280,  674, 1586,  321,  255,  143,   47,  184,   62, 1133,    4,\n",
       "         24,  470,    5,  269,   11,  316,    2,  472,  535, 1011,  854,\n",
       "       1543,  614,  605,  404, 1010,  757,  129,   91,  889,   10,   30,\n",
       "        429,  625,  816,  107, 1367,   69,  272,  466,  335,  851,  723,\n",
       "        574,  121,   37,   23,  256,  920,    4, 1280,  405,  731,  249,\n",
       "        930,  135,  306,  448, 1027,   27,  932,    4,  352,  703,  258,\n",
       "        652, 1121,   89,  478,  189,   75, 1204,   33,  869, 1483,  191,\n",
       "         64,  136, 1622,  651,  294,  458,  944,  819,   68, 1635,   29,\n",
       "        301,  591, 1195,   82,  783, 1411,  841,   96, 1370,  272,  403,\n",
       "         10,   87, 1233,   71,  108,  430,  992,   19,  258,  171, 1812,\n",
       "        509,  671,  212,  228,  252,   22, 1477,  344,  359,  639,  351,\n",
       "       1187,   44,  300,  318,   92,  189,  153, 1141,  606,  679,  710,\n",
       "        148,   62,  335,  138, 1074, 1131,  658,  533,  356,  462,  434,\n",
       "        759, 1036,  436,    4, 1031,  387,   80,  223, 1152,  125,  515,\n",
       "         32,  243,  239,   31, 1277, 1151,  252,  565,   12,  700,  117,\n",
       "         90,   83,  194,   22,  196,   73,  460,  560,  133,  351,  237,\n",
       "        167,   21,  694,    9,  287,  114,  128,  130,  190, 1271,  382,\n",
       "        652,  834,  261,  907, 1697,  377,  854,  241, 1019,  959,  945,\n",
       "       1397, 1095, 1009, 1337,  647,  631, 1019,   83, 1691,  540,  544,\n",
       "        648,  685,  133,   64,  283, 1599,   55,   10,   37,   25,  614,\n",
       "         93,   98,  503,    7,  200,  376,   64,  636,  471,  110,  491,\n",
       "        402,  795,  388, 1453,  713,  717,  122,  680,  297,  942,  117,\n",
       "         88, 1467,  123, 1056, 1295, 1100, 1343,  956,  133,    6,  498,\n",
       "       1687,   35,  959,  380,   97,    2,  351, 1556,  749,  246,  700,\n",
       "        157, 1216,  571,  448,  730, 1515,   47,  535,  102, 1550,  486,\n",
       "        551,  387,    0,  430,  434,  205,  351,  701,  421,  536,  308,\n",
       "        247,   88,   25,  329,  264,  464, 1441,   77,   18, 1712,  353,\n",
       "       1672,   56,  220,  328,   74,  973,  249,  489,  815,  589,  607,\n",
       "        927,  158,   63,   13,   49,  573,  280,  350,   66,  553,  233,\n",
       "         69,  314,   78,  961,  469,  821,  605,  959,   48, 1346,  968,\n",
       "        222, 1365,  473,  917,  137,  782,  322,  603,  989,  277,   45,\n",
       "         73,  265,  276,  242,  342,  257,  699,  221,  334,  259,  806,\n",
       "        812,   54,   89, 1551,  109,  271, 1642,  151, 1158,  228,  109,\n",
       "         10,  306, 1308,  817, 1618, 1430,  839,  146,   33,  650,  241,\n",
       "         83,  644,  109,  120,  637,  317,  190,   48, 1113, 1547,   68,\n",
       "        765,  230,  422, 1066,  421,   22,  189, 1060,  375,  907,  363,\n",
       "       1051,   34,  465,  572,  611,  629,  535, 1097, 1015,  915,  616,\n",
       "         13,  448,   36,   29,  129,  195, 1423,  839,   56,  125,  430,\n",
       "        571,  747,  449,  435,  446,  387,  569,   22, 1721,   90,  978,\n",
       "       1659,   93, 1826,  115,  334,  219,  333,  122,  725,  162,  707,\n",
       "         17, 1103,   38,  172,   65,  438, 1143,  763,  115,  328,   13,\n",
       "        257,  117,  383,  912,  673,  130,  128,  222,  318,  785, 1505,\n",
       "        887,  110, 1706,  786,  192,  524, 1265,   40,  276,  408,   63,\n",
       "         86,  315,  648,  222,   17, 1127,  460,  341,  414,  204,  991,\n",
       "         14,   68,  354,  201,  110, 1613,  477,  345, 1991,  452,    5,\n",
       "        446,   68,  456,  683,  144,  336,  149, 1204,  736,  934, 1256,\n",
       "        112,   26,  478,  185, 1361,  997,  220,  292,   52,  385,  130,\n",
       "        107,   61,   39,  368,  757,  466,  120,  787,  576,  355,  701,\n",
       "         52,  212,  448,  103,  712,  679,   94,  465,  788,   93,  884,\n",
       "         29,  214,  470,  120,  216,  406,  662,  642,  452,  704,  156,\n",
       "        484,   29,   41, 1639,  286, 1325,  535,  101,   53,  408, 1727,\n",
       "        684,  276,  314,   36, 1393, 1448,   34,   12,  158,  118,  433,\n",
       "       1320,  617,   68,  395,  174,   83,  549, 1032,  871,  239,  325,\n",
       "        454,  923, 1324,  470,  532,  214, 1308,  278,  213,  155,   94,\n",
       "        514,   18, 1278,  467,  481,  194,  932,  122,  619,  796, 1296,\n",
       "        979,  884, 1176,  230,  457,   61,  162,  571, 1246,  631,  840,\n",
       "        135,   76,  293,  517,  789,  314,  772,  674,  406, 1302,    9,\n",
       "         86,   53, 1019,  376, 1688,  203, 1328,  840,  322,   17,  249,\n",
       "       1192,    5,  353,  304,  476,  739,  299, 1495,  162,   49,  226,\n",
       "        421,   19,   20, 1179,    4,  438,  244,  298,  117,   46,  107,\n",
       "        133,  407,  190,  146, 1063,  485,  132,  348,   15,  804,  343,\n",
       "        227, 1108,   29, 1141, 1413, 1412,  181,  489,  146,  227, 1136,\n",
       "         86,  612, 1256,  862,  120,    3,  129,  373, 1240,  428, 1119,\n",
       "         13,  168,   34,  609,  655,  260,   94,  634, 1136, 1567,  165,\n",
       "          0, 1079,   11,   39,   27,  456,  391,   79, 1908, 1062,  141,\n",
       "          6, 1081,  209,  642, 1726,   83,  141,    2,  254,  393,   83,\n",
       "        246, 1355, 1085,  786,  453,  213, 1536,  756,  351,  405, 1925,\n",
       "          3,    1,   12,  615,  303,  423,   10, 1365,  181, 1510],\n",
       "      dtype=int64)"
      ]
     },
     "execution_count": 30,
     "metadata": {},
     "output_type": "execute_result"
    }
   ],
   "source": [
    "original_input = pd.read_csv('input.txt',header=None, sep=',', engine='python').values[0]\n",
    "original_input"
   ]
  },
  {
   "cell_type": "markdown",
   "metadata": {},
   "source": [
    "# Part A\n",
    "## Example"
   ]
  },
  {
   "cell_type": "code",
   "execution_count": 31,
   "metadata": {},
   "outputs": [
    {
     "data": {
      "text/plain": [
       "array([ 49.,  41.,  37.,  39.,  41.,  45.,  49.,  53.,  59.,  65.,  71.,\n",
       "        77.,  83.,  89.,  95., 103.])"
      ]
     },
     "execution_count": 31,
     "metadata": {},
     "output_type": "execute_result"
    }
   ],
   "source": [
    "positions = example.copy()\n",
    "costs = np.zeros(max(positions))\n",
    "costs\n",
    "# BRUTE FORCE: loop over all positions, calculate the cost to move all crabs there\n",
    "for position_i in range(len(costs)):\n",
    "    costs[position_i] =sum(abs(positions - position_i))\n",
    "    # print(f'Population at Day {day+1}: {population}')\n",
    "costs\n"
   ]
  },
  {
   "cell_type": "markdown",
   "metadata": {},
   "source": [
    "## Actual assignment"
   ]
  },
  {
   "cell_type": "code",
   "execution_count": 32,
   "metadata": {},
   "outputs": [
    {
     "data": {
      "text/plain": [
       "351901.0"
      ]
     },
     "execution_count": 32,
     "metadata": {},
     "output_type": "execute_result"
    }
   ],
   "source": [
    "positions = original_input.copy()\n",
    "costs = np.zeros(max(positions))\n",
    "# BRUTE FORCE: loop over all positions, calculate the cost to move all crabs there\n",
    "for position_i in range(len(costs)):\n",
    "    costs[position_i] =sum(abs(positions - position_i))\n",
    "    # print(f'Population at Day {day+1}: {population}')\n",
    "min(costs)\n"
   ]
  },
  {
   "cell_type": "markdown",
   "metadata": {},
   "source": [
    "# Part B"
   ]
  },
  {
   "cell_type": "markdown",
   "metadata": {},
   "source": []
  },
  {
   "cell_type": "markdown",
   "metadata": {},
   "source": [
    "## Example\n",
    "### Example output"
   ]
  },
  {
   "cell_type": "code",
   "execution_count": null,
   "metadata": {},
   "outputs": [],
   "source": []
  },
  {
   "cell_type": "markdown",
   "metadata": {},
   "source": [
    "### Example run"
   ]
  },
  {
   "cell_type": "code",
   "execution_count": 47,
   "metadata": {},
   "outputs": [
    {
     "data": {
      "text/plain": [
       "array([290., 242., 206., 183., 170., 168., 176., 194., 223., 262., 311.,\n",
       "       370., 439., 518., 607., 707.])"
      ]
     },
     "execution_count": 47,
     "metadata": {},
     "output_type": "execute_result"
    }
   ],
   "source": [
    "positions = example.copy()\n",
    "costs = np.zeros(max(positions))\n",
    "costs\n",
    "# BRUTE FORCE: loop over all positions, calculate the cost to move all crabs there\n",
    "for position_i in range(len(costs)):\n",
    "    movement = abs(positions - position_i)\n",
    "    cost = np.zeros(len(movement))\n",
    "    for crab_i, crab_movement in enumerate(movement):\n",
    "        cost[crab_i] = sum(range(1,crab_movement+1))\n",
    "    costs[position_i] =sum(cost)\n",
    "costs\n"
   ]
  },
  {
   "cell_type": "markdown",
   "metadata": {},
   "source": [
    "## Real data run"
   ]
  },
  {
   "cell_type": "code",
   "execution_count": 48,
   "metadata": {},
   "outputs": [
    {
     "data": {
      "text/plain": [
       "array([290., 242., 206., 183., 170., 168., 176., 194., 223., 262., 311.,\n",
       "       370., 439., 518., 607., 707.])"
      ]
     },
     "execution_count": 48,
     "metadata": {},
     "output_type": "execute_result"
    }
   ],
   "source": [
    "positions = example.copy()\n",
    "costs = np.zeros(max(positions))\n",
    "costs\n",
    "# BRUTE FORCE: loop over all positions, calculate the cost to move all crabs there\n",
    "for position_i in range(len(costs)):\n",
    "    movement = abs(positions - position_i)\n",
    "    cost = np.zeros(len(movement))\n",
    "    for crab_i, crab_movement in enumerate(movement):\n",
    "        cost[crab_i] = sum(range(1,crab_movement+1))\n",
    "    costs[position_i] =sum(cost)\n",
    "costs\n"
   ]
  },
  {
   "cell_type": "code",
   "execution_count": 50,
   "metadata": {},
   "outputs": [
    {
     "data": {
      "text/plain": [
       "101079875.0"
      ]
     },
     "execution_count": 50,
     "metadata": {},
     "output_type": "execute_result"
    }
   ],
   "source": [
    "positions = original_input.copy()\n",
    "costs = np.zeros(max(positions))\n",
    "costs\n",
    "# BRUTE FORCE: loop over all positions, calculate the cost to move all crabs there\n",
    "for position_i in range(len(costs)):\n",
    "    movement = abs(positions - position_i)\n",
    "    cost = np.zeros(len(movement))\n",
    "    for crab_i, crab_movement in enumerate(movement):\n",
    "        cost[crab_i] = sum(range(1,crab_movement+1))\n",
    "    costs[position_i] =sum(cost)\n",
    "min(costs)\n"
   ]
  },
  {
   "cell_type": "code",
   "execution_count": null,
   "metadata": {},
   "outputs": [],
   "source": []
  }
 ],
 "metadata": {
  "interpreter": {
   "hash": "849a49f3c97c4464b4ee2c34e7b9f01293c96a49a53d4ae2694e931c378ee2ec"
  },
  "kernelspec": {
   "display_name": "Python 3.9.1 64-bit ('base': conda)",
   "language": "python",
   "name": "python3"
  },
  "language_info": {
   "codemirror_mode": {
    "name": "ipython",
    "version": 3
   },
   "file_extension": ".py",
   "mimetype": "text/x-python",
   "name": "python",
   "nbconvert_exporter": "python",
   "pygments_lexer": "ipython3",
   "version": "3.9.1"
  },
  "orig_nbformat": 4
 },
 "nbformat": 4,
 "nbformat_minor": 2
}
