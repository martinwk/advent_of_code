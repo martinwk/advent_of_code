{
 "cells": [
  {
   "cell_type": "code",
   "execution_count": 1,
   "metadata": {},
   "outputs": [],
   "source": [
    "import pandas as pd\n",
    "import numpy as np"
   ]
  },
  {
   "cell_type": "markdown",
   "metadata": {},
   "source": [
    "# import data"
   ]
  },
  {
   "cell_type": "code",
   "execution_count": 2,
   "metadata": {},
   "outputs": [
    {
     "data": {
      "text/plain": [
       "0      73\n",
       "1    42.0\n",
       "2    95.0\n",
       "3    35.0\n",
       "4    13.0\n",
       "Name: 0, dtype: object"
      ]
     },
     "execution_count": 2,
     "metadata": {},
     "output_type": "execute_result"
    }
   ],
   "source": [
    "drawing_order = pd.read_csv('input.txt',header=None).iloc[0]\n",
    "drawing_order.head()"
   ]
  },
  {
   "cell_type": "code",
   "execution_count": 3,
   "metadata": {},
   "outputs": [
    {
     "data": {
      "text/html": [
       "<div>\n",
       "<style scoped>\n",
       "    .dataframe tbody tr th:only-of-type {\n",
       "        vertical-align: middle;\n",
       "    }\n",
       "\n",
       "    .dataframe tbody tr th {\n",
       "        vertical-align: top;\n",
       "    }\n",
       "\n",
       "    .dataframe thead th {\n",
       "        text-align: right;\n",
       "    }\n",
       "</style>\n",
       "<table border=\"1\" class=\"dataframe\">\n",
       "  <thead>\n",
       "    <tr style=\"text-align: right;\">\n",
       "      <th></th>\n",
       "      <th>0</th>\n",
       "      <th>1</th>\n",
       "      <th>2</th>\n",
       "      <th>3</th>\n",
       "      <th>4</th>\n",
       "    </tr>\n",
       "  </thead>\n",
       "  <tbody>\n",
       "    <tr>\n",
       "      <th>0</th>\n",
       "      <td>91</td>\n",
       "      <td>5</td>\n",
       "      <td>64</td>\n",
       "      <td>81</td>\n",
       "      <td>34</td>\n",
       "    </tr>\n",
       "    <tr>\n",
       "      <th>1</th>\n",
       "      <td>15</td>\n",
       "      <td>99</td>\n",
       "      <td>31</td>\n",
       "      <td>63</td>\n",
       "      <td>65</td>\n",
       "    </tr>\n",
       "    <tr>\n",
       "      <th>2</th>\n",
       "      <td>45</td>\n",
       "      <td>39</td>\n",
       "      <td>54</td>\n",
       "      <td>93</td>\n",
       "      <td>83</td>\n",
       "    </tr>\n",
       "    <tr>\n",
       "      <th>3</th>\n",
       "      <td>51</td>\n",
       "      <td>14</td>\n",
       "      <td>23</td>\n",
       "      <td>86</td>\n",
       "      <td>32</td>\n",
       "    </tr>\n",
       "    <tr>\n",
       "      <th>4</th>\n",
       "      <td>19</td>\n",
       "      <td>22</td>\n",
       "      <td>16</td>\n",
       "      <td>13</td>\n",
       "      <td>3</td>\n",
       "    </tr>\n",
       "    <tr>\n",
       "      <th>5</th>\n",
       "      <td>20</td>\n",
       "      <td>83</td>\n",
       "      <td>38</td>\n",
       "      <td>85</td>\n",
       "      <td>70</td>\n",
       "    </tr>\n",
       "  </tbody>\n",
       "</table>\n",
       "</div>"
      ],
      "text/plain": [
       "    0   1   2   3   4\n",
       "0  91   5  64  81  34\n",
       "1  15  99  31  63  65\n",
       "2  45  39  54  93  83\n",
       "3  51  14  23  86  32\n",
       "4  19  22  16  13   3\n",
       "5  20  83  38  85  70"
      ]
     },
     "execution_count": 3,
     "metadata": {},
     "output_type": "execute_result"
    }
   ],
   "source": [
    "boards = pd.read_csv('input.txt', header=None, skiprows=2, skip_blank_lines=True, sep='\\s+')\n",
    "\n",
    "boards.head(6)"
   ]
  },
  {
   "cell_type": "markdown",
   "metadata": {},
   "source": [
    "# Create 3D array with boards"
   ]
  },
  {
   "cell_type": "code",
   "execution_count": 4,
   "metadata": {},
   "outputs": [],
   "source": [
    "dimensions_board = 5\n",
    "boards_list = np.array([[[0]*dimensions_board]*dimensions_board] * int(boards.count().values[0]/dimensions_board))\n",
    "for board_i, _ in enumerate(boards_list):\n",
    "    boards_list[board_i] = boards.loc[5*board_i:5*(board_i+1)-1]\n",
    "original_boards_list = boards_list.copy()"
   ]
  },
  {
   "cell_type": "markdown",
   "metadata": {},
   "source": [
    "# Find winning board"
   ]
  },
  {
   "cell_type": "markdown",
   "metadata": {},
   "source": [
    "### mark crossed number with -1"
   ]
  },
  {
   "cell_type": "code",
   "execution_count": 5,
   "metadata": {},
   "outputs": [
    {
     "name": "stdout",
     "output_type": "stream",
     "text": [
      "number drawn: 71.0, boards_i: [[64 65  6 86 53]\n",
      " [10 56  2 88 -1]\n",
      " [11 -1 -1 84 -1]\n",
      " [-1 -1 -1 -1 -1]\n",
      " [-1 -1 19 14  4]], score: 39902.0\n"
     ]
    }
   ],
   "source": [
    "stop_drawing = False\n",
    "for drawn_number in drawing_order:\n",
    "    idx = boards_list==int(drawn_number)\n",
    "    boards_list[idx] = np.array([-1]*sum(sum(sum(idx))))\n",
    "    # check for all boards if any line or column is completely crossed\n",
    "    for idx, board_i in enumerate(boards_list):\n",
    "        if any(np.sum(board_i,0) ==-5) or any(np.sum(board_i,1) ==-5):\n",
    "            stop_drawing = True\n",
    "            break\n",
    "    if stop_drawing:\n",
    "        break\n",
    "score = np.sum(board_i[board_i>-1],None) * drawn_number\n",
    "print(f\"number drawn: {drawn_number}, boards_i: {board_i}, score: {score}\")\n",
    "        \n",
    "        \n"
   ]
  },
  {
   "cell_type": "markdown",
   "metadata": {},
   "source": [
    "# Part B"
   ]
  },
  {
   "cell_type": "code",
   "execution_count": 14,
   "metadata": {},
   "outputs": [
    {
     "data": {
      "text/plain": [
       "array([[[91,  5, 64, 81, 34],\n",
       "        [15, 99, 31, 63, 65],\n",
       "        [45, 39, 54, 93, 83],\n",
       "        [51, 14, 23, 86, 32],\n",
       "        [19, 22, 16, 13,  3]],\n",
       "\n",
       "       [[20, 83, 38, 85, 70],\n",
       "        [69, 12, 14, 26, 84],\n",
       "        [19, 76, 45, 78, 99],\n",
       "        [22, 80, 90, 33, 46],\n",
       "        [75, 31, 21,  6, 28]],\n",
       "\n",
       "       [[22, 52, 65, 75,  2],\n",
       "        [91, 12, 45, 18, 94],\n",
       "        [38, 66, 85, 39,  1],\n",
       "        [24, 36, 55, 74,  3],\n",
       "        [89, 14, 79, 99, 48]],\n",
       "\n",
       "       ...,\n",
       "\n",
       "       [[73, 81, 41, 54, 92],\n",
       "        [70, 39, 66, 38, 27],\n",
       "        [89, 15, 80, 22, 87],\n",
       "        [36, 12, 48, 93, 26],\n",
       "        [44, 85, 19, 60, 49]],\n",
       "\n",
       "       [[ 8, 28, 76, 19,  5],\n",
       "        [86, 34, 50, 98, 29],\n",
       "        [80, 91, 46, 90, 40],\n",
       "        [33, 58, 21, 22, 49],\n",
       "        [64, 41, 87, 92, 72]],\n",
       "\n",
       "       [[16, 61, 73, 82, 25],\n",
       "        [ 8,  1, 53, 10, 71],\n",
       "        [47, 99, 90, 93, 39],\n",
       "        [87, 74, 41, 52, 69],\n",
       "        [17, 49, 91, 30, 33]]])"
      ]
     },
     "execution_count": 14,
     "metadata": {},
     "output_type": "execute_result"
    }
   ],
   "source": [
    "original_boards_list"
   ]
  },
  {
   "cell_type": "code",
   "execution_count": 29,
   "metadata": {},
   "outputs": [
    {
     "name": "stdout",
     "output_type": "stream",
     "text": [
      "number drawn: 56.0, boards_i: [[-1 -1 -1 -1 32]\n",
      " [-1 -1 38 -1 45]\n",
      " [70 -1 -1 86 -1]\n",
      " [-1 -1 -1 66 60]\n",
      " [-1 -1 84 -1 -1]], score: 26936.0\n"
     ]
    }
   ],
   "source": [
    "boards_list_b = original_boards_list.copy()\n",
    "stop_drawing = False\n",
    "boards_that_did_not_yet_win = np.ones(len(boards_list_b))\n",
    "for drawn_number in drawing_order:\n",
    "    idx = boards_list_b==int(drawn_number)\n",
    "    boards_list_b[idx] = np.array([-1]*sum(sum(sum(idx))))\n",
    "    # check for all boards if any line or column is completely crossed\n",
    "    for idx2, board_i in enumerate(boards_list_b):\n",
    "        if boards_that_did_not_yet_win[idx2] == 1:\n",
    "            if any(np.sum(board_i,0) ==-5) or any(np.sum(board_i,1) ==-5):\n",
    "                boards_that_did_not_yet_win[idx2] = 0\n",
    "        if np.all(boards_that_did_not_yet_win==0):\n",
    "            break\n",
    "    \n",
    "    if np.all(boards_that_did_not_yet_win==0):\n",
    "        break\n",
    "score = np.sum(board_i[board_i>-1],None) * drawn_number\n",
    "print(f\"number drawn: {drawn_number}, boards_i: {board_i}, score: {score}\")"
   ]
  },
  {
   "cell_type": "code",
   "execution_count": 25,
   "metadata": {},
   "outputs": [
    {
     "data": {
      "text/plain": [
       "array([[[-1, -1, -1, -1, -1],\n",
       "        [-1, -1, -1, -1, -1],\n",
       "        [-1, -1, -1, -1, -1],\n",
       "        [-1, -1, -1, -1, -1],\n",
       "        [-1, -1, -1, -1, -1]],\n",
       "\n",
       "       [[-1, -1, -1, -1, -1],\n",
       "        [-1, -1, -1, -1, -1],\n",
       "        [-1, -1, -1, -1, -1],\n",
       "        [-1, -1, -1, -1, -1],\n",
       "        [-1, -1, -1, -1, -1]],\n",
       "\n",
       "       [[-1, -1, -1, -1, -1],\n",
       "        [-1, -1, -1, -1, -1],\n",
       "        [-1, -1, -1, -1, -1],\n",
       "        [-1, -1, -1, -1, -1],\n",
       "        [-1, -1, -1, -1, -1]],\n",
       "\n",
       "       ...,\n",
       "\n",
       "       [[-1, -1, -1, -1, -1],\n",
       "        [-1, -1, -1, -1, -1],\n",
       "        [-1, -1, -1, -1, -1],\n",
       "        [-1, -1, -1, -1, -1],\n",
       "        [-1, -1, -1, -1, -1]],\n",
       "\n",
       "       [[-1, -1, -1, -1, -1],\n",
       "        [-1, -1, -1, -1, -1],\n",
       "        [-1, -1, -1, -1, -1],\n",
       "        [-1, -1, -1, -1, -1],\n",
       "        [-1, -1, -1, -1, -1]],\n",
       "\n",
       "       [[-1, -1, -1, -1, -1],\n",
       "        [-1, -1, -1, -1, -1],\n",
       "        [-1, -1, -1, -1, -1],\n",
       "        [-1, -1, -1, -1, -1],\n",
       "        [-1, -1, -1, -1, -1]]])"
      ]
     },
     "execution_count": 25,
     "metadata": {},
     "output_type": "execute_result"
    }
   ],
   "source": [
    "boards_list"
   ]
  },
  {
   "cell_type": "code",
   "execution_count": 17,
   "metadata": {},
   "outputs": [
    {
     "data": {
      "text/plain": [
       "array([[[False, False, False, False, False],\n",
       "        [False, False, False, False, False],\n",
       "        [False, False, False, False, False],\n",
       "        [False, False, False, False, False],\n",
       "        [False, False, False, False, False]],\n",
       "\n",
       "       [[False, False, False, False, False],\n",
       "        [False, False, False, False, False],\n",
       "        [False, False, False, False, False],\n",
       "        [False, False, False, False, False],\n",
       "        [False, False, False, False, False]],\n",
       "\n",
       "       [[False, False, False, False, False],\n",
       "        [False, False, False, False, False],\n",
       "        [False, False, False, False, False],\n",
       "        [False, False, False, False, False],\n",
       "        [False, False, False, False, False]],\n",
       "\n",
       "       ...,\n",
       "\n",
       "       [[False, False, False, False, False],\n",
       "        [False, False, False, False, False],\n",
       "        [False, False, False, False, False],\n",
       "        [False, False, False, False, False],\n",
       "        [False, False, False, False, False]],\n",
       "\n",
       "       [[False, False, False, False, False],\n",
       "        [False, False, False, False, False],\n",
       "        [False, False, False, False, False],\n",
       "        [False, False, False, False, False],\n",
       "        [False, False, False, False, False]],\n",
       "\n",
       "       [[False, False, False, False, False],\n",
       "        [False, False, False, False, False],\n",
       "        [False, False, False, False, False],\n",
       "        [False, False, False, False, False],\n",
       "        [False, False, False, False, False]]])"
      ]
     },
     "execution_count": 17,
     "metadata": {},
     "output_type": "execute_result"
    }
   ],
   "source": [
    "idx"
   ]
  },
  {
   "cell_type": "code",
   "execution_count": null,
   "metadata": {},
   "outputs": [],
   "source": []
  }
 ],
 "metadata": {
  "interpreter": {
   "hash": "849a49f3c97c4464b4ee2c34e7b9f01293c96a49a53d4ae2694e931c378ee2ec"
  },
  "kernelspec": {
   "display_name": "Python 3.9.1 64-bit ('base': conda)",
   "language": "python",
   "name": "python3"
  },
  "language_info": {
   "codemirror_mode": {
    "name": "ipython",
    "version": 3
   },
   "file_extension": ".py",
   "mimetype": "text/x-python",
   "name": "python",
   "nbconvert_exporter": "python",
   "pygments_lexer": "ipython3",
   "version": "3.9.1"
  },
  "orig_nbformat": 4
 },
 "nbformat": 4,
 "nbformat_minor": 2
}
