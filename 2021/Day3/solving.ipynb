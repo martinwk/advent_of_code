{
 "cells": [
  {
   "cell_type": "code",
   "execution_count": 276,
   "metadata": {},
   "outputs": [],
   "source": [
    "import pandas as pd\n",
    "import numpy as np"
   ]
  },
  {
   "cell_type": "code",
   "execution_count": 301,
   "metadata": {},
   "outputs": [
    {
     "data": {
      "text/html": [
       "<div>\n",
       "<style scoped>\n",
       "    .dataframe tbody tr th:only-of-type {\n",
       "        vertical-align: middle;\n",
       "    }\n",
       "\n",
       "    .dataframe tbody tr th {\n",
       "        vertical-align: top;\n",
       "    }\n",
       "\n",
       "    .dataframe thead th {\n",
       "        text-align: right;\n",
       "    }\n",
       "</style>\n",
       "<table border=\"1\" class=\"dataframe\">\n",
       "  <thead>\n",
       "    <tr style=\"text-align: right;\">\n",
       "      <th></th>\n",
       "      <th>0</th>\n",
       "    </tr>\n",
       "  </thead>\n",
       "  <tbody>\n",
       "    <tr>\n",
       "      <th>0</th>\n",
       "      <td>000100011010</td>\n",
       "    </tr>\n",
       "    <tr>\n",
       "      <th>1</th>\n",
       "      <td>110011110110</td>\n",
       "    </tr>\n",
       "    <tr>\n",
       "      <th>2</th>\n",
       "      <td>011000101111</td>\n",
       "    </tr>\n",
       "    <tr>\n",
       "      <th>3</th>\n",
       "      <td>001101100101</td>\n",
       "    </tr>\n",
       "    <tr>\n",
       "      <th>4</th>\n",
       "      <td>011100001000</td>\n",
       "    </tr>\n",
       "    <tr>\n",
       "      <th>...</th>\n",
       "      <td>...</td>\n",
       "    </tr>\n",
       "    <tr>\n",
       "      <th>995</th>\n",
       "      <td>101100001110</td>\n",
       "    </tr>\n",
       "    <tr>\n",
       "      <th>996</th>\n",
       "      <td>101011100110</td>\n",
       "    </tr>\n",
       "    <tr>\n",
       "      <th>997</th>\n",
       "      <td>111001100001</td>\n",
       "    </tr>\n",
       "    <tr>\n",
       "      <th>998</th>\n",
       "      <td>111101011101</td>\n",
       "    </tr>\n",
       "    <tr>\n",
       "      <th>999</th>\n",
       "      <td>001100111110</td>\n",
       "    </tr>\n",
       "  </tbody>\n",
       "</table>\n",
       "<p>1000 rows × 1 columns</p>\n",
       "</div>"
      ],
      "text/plain": [
       "                0\n",
       "0    000100011010\n",
       "1    110011110110\n",
       "2    011000101111\n",
       "3    001101100101\n",
       "4    011100001000\n",
       "..            ...\n",
       "995  101100001110\n",
       "996  101011100110\n",
       "997  111001100001\n",
       "998  111101011101\n",
       "999  001100111110\n",
       "\n",
       "[1000 rows x 1 columns]"
      ]
     },
     "execution_count": 301,
     "metadata": {},
     "output_type": "execute_result"
    }
   ],
   "source": [
    "input = pd.read_csv('input.txt',header=None,dtype=str)\n",
    "input"
   ]
  },
  {
   "cell_type": "markdown",
   "metadata": {},
   "source": [
    "# df input"
   ]
  },
  {
   "cell_type": "code",
   "execution_count": 302,
   "metadata": {},
   "outputs": [],
   "source": [
    "example = pd.DataFrame(['00100',\n",
    "'11110',\n",
    "'10110',\n",
    "'10111',\n",
    "'10101',\n",
    "'01111',\n",
    "'00111',\n",
    "'11100',\n",
    "'10000',\n",
    "'11001',\n",
    "'00010',\n",
    "'01010'])"
   ]
  },
  {
   "cell_type": "code",
   "execution_count": 303,
   "metadata": {},
   "outputs": [],
   "source": [
    "def preprocessing(df):\n",
    "    df['1st'] = df[0].apply(lambda x: int(x[0]))\n",
    "    df['2nd'] = df[0].apply(lambda x: int(x[1]))\n",
    "    df['3rd'] = df[0].apply(lambda x: int(x[2]))\n",
    "    df['4th'] = df[0].apply(lambda x: int(x[3]))\n",
    "    df['5th'] = df[0].apply(lambda x: int(x[4]))\n",
    "    return df.drop(0, axis=1)\n",
    "example = preprocessing(example)"
   ]
  },
  {
   "cell_type": "markdown",
   "metadata": {},
   "source": [
    "## gamma rate"
   ]
  },
  {
   "cell_type": "markdown",
   "metadata": {},
   "source": [
    "### most common"
   ]
  },
  {
   "cell_type": "code",
   "execution_count": 345,
   "metadata": {},
   "outputs": [
    {
     "data": {
      "text/plain": [
       "1st    1\n",
       "2nd    0\n",
       "3rd    1\n",
       "4th    1\n",
       "5th    0\n",
       "dtype: int32"
      ]
     },
     "execution_count": 345,
     "metadata": {},
     "output_type": "execute_result"
    }
   ],
   "source": [
    "def get_most_common(df):\n",
    "     one_is_most_common = df.sum(axis=0) >= df.count()/2\n",
    "     decimal = one_is_most_common.copy()\n",
    "     decimal = decimal * 0\n",
    "     decimal[one_is_most_common] = 1\n",
    "     return decimal\n",
    "def get_least_common(df):\n",
    "     one_is_least_common = df.sum(axis=0) < df.count()/2\n",
    "     decimal = one_is_least_common.copy()\n",
    "     decimal = decimal * 0\n",
    "     decimal[one_is_least_common] = 1\n",
    "     return decimal\n",
    "common = get_most_common(example)\n",
    "common"
   ]
  },
  {
   "cell_type": "code",
   "execution_count": 336,
   "metadata": {},
   "outputs": [
    {
     "data": {
      "text/plain": [
       "(22, 9)"
      ]
     },
     "execution_count": 336,
     "metadata": {},
     "output_type": "execute_result"
    }
   ],
   "source": [
    "# decimal_num = int(str(common.values),2)\n",
    "# decimal_num\n",
    "def series_to_decimal(sr):\n",
    "    return int(''.join(sr.apply(str).values),2)\n",
    "def get_gamma(df):\n",
    "    common = get_most_common(df)\n",
    "    return series_to_decimal((common))\n",
    "def get_epsilon(df):\n",
    "    least_common = get_least_common((df))\n",
    "    return series_to_decimal((least_common))\n",
    "(get_gamma(example), get_epsilon(example))"
   ]
  },
  {
   "cell_type": "code",
   "execution_count": 306,
   "metadata": {},
   "outputs": [
    {
     "data": {
      "text/plain": [
       "198"
      ]
     },
     "execution_count": 306,
     "metadata": {},
     "output_type": "execute_result"
    }
   ],
   "source": [
    "def get_power_consumption(df):\n",
    "    return get_gamma(df) * get_epsilon(df)\n",
    "get_power_consumption(example)"
   ]
  },
  {
   "cell_type": "code",
   "execution_count": 307,
   "metadata": {},
   "outputs": [
    {
     "data": {
      "text/html": [
       "<div>\n",
       "<style scoped>\n",
       "    .dataframe tbody tr th:only-of-type {\n",
       "        vertical-align: middle;\n",
       "    }\n",
       "\n",
       "    .dataframe tbody tr th {\n",
       "        vertical-align: top;\n",
       "    }\n",
       "\n",
       "    .dataframe thead th {\n",
       "        text-align: right;\n",
       "    }\n",
       "</style>\n",
       "<table border=\"1\" class=\"dataframe\">\n",
       "  <thead>\n",
       "    <tr style=\"text-align: right;\">\n",
       "      <th></th>\n",
       "      <th>0</th>\n",
       "    </tr>\n",
       "  </thead>\n",
       "  <tbody>\n",
       "    <tr>\n",
       "      <th>0</th>\n",
       "      <td>12</td>\n",
       "    </tr>\n",
       "    <tr>\n",
       "      <th>1</th>\n",
       "      <td>12</td>\n",
       "    </tr>\n",
       "    <tr>\n",
       "      <th>2</th>\n",
       "      <td>12</td>\n",
       "    </tr>\n",
       "    <tr>\n",
       "      <th>3</th>\n",
       "      <td>12</td>\n",
       "    </tr>\n",
       "    <tr>\n",
       "      <th>4</th>\n",
       "      <td>12</td>\n",
       "    </tr>\n",
       "    <tr>\n",
       "      <th>...</th>\n",
       "      <td>...</td>\n",
       "    </tr>\n",
       "    <tr>\n",
       "      <th>995</th>\n",
       "      <td>12</td>\n",
       "    </tr>\n",
       "    <tr>\n",
       "      <th>996</th>\n",
       "      <td>12</td>\n",
       "    </tr>\n",
       "    <tr>\n",
       "      <th>997</th>\n",
       "      <td>12</td>\n",
       "    </tr>\n",
       "    <tr>\n",
       "      <th>998</th>\n",
       "      <td>12</td>\n",
       "    </tr>\n",
       "    <tr>\n",
       "      <th>999</th>\n",
       "      <td>12</td>\n",
       "    </tr>\n",
       "  </tbody>\n",
       "</table>\n",
       "<p>1000 rows × 1 columns</p>\n",
       "</div>"
      ],
      "text/plain": [
       "      0\n",
       "0    12\n",
       "1    12\n",
       "2    12\n",
       "3    12\n",
       "4    12\n",
       "..   ..\n",
       "995  12\n",
       "996  12\n",
       "997  12\n",
       "998  12\n",
       "999  12\n",
       "\n",
       "[1000 rows x 1 columns]"
      ]
     },
     "execution_count": 307,
     "metadata": {},
     "output_type": "execute_result"
    }
   ],
   "source": [
    "input.applymap(str).applymap(len)"
   ]
  },
  {
   "cell_type": "code",
   "execution_count": 308,
   "metadata": {},
   "outputs": [],
   "source": [
    "input2 = input.applymap(str)\n",
    "n_digits = input2[0].apply(str).apply(len)\n",
    "# mapping = {'1st':0, '2nd':1, '3rd':2, '4th':3,'5th':4}\n",
    "for digit_i in range(1,n_digits.max()):\n",
    "    # print(digit_i)\n",
    "    input2[digit_i] = input2.loc[n_digits>digit_i, 0].apply(lambda x: int(x[digit_i]))\n",
    "input2[0] = input2[0].apply(lambda x: int(x[0]))\n",
    "\n"
   ]
  },
  {
   "cell_type": "code",
   "execution_count": 311,
   "metadata": {},
   "outputs": [
    {
     "data": {
      "text/plain": [
       "2595824"
      ]
     },
     "execution_count": 311,
     "metadata": {},
     "output_type": "execute_result"
    }
   ],
   "source": [
    "get_power_consumption(input2)"
   ]
  },
  {
   "cell_type": "markdown",
   "metadata": {},
   "source": [
    "# Part B"
   ]
  },
  {
   "cell_type": "code",
   "execution_count": 347,
   "metadata": {},
   "outputs": [
    {
     "data": {
      "text/plain": [
       "781"
      ]
     },
     "execution_count": 347,
     "metadata": {},
     "output_type": "execute_result"
    }
   ],
   "source": [
    "input_b = input2.copy()\n",
    "for col in input2.columns:\n",
    "    common = get_most_common(input_b)[col]\n",
    "    input_b = input_b[input_b[col]==common]\n",
    "    input_b\n",
    "    if input_b.count().max() ==1:\n",
    "        break\n",
    "series_to_decimal(input_b.iloc[0])\n"
   ]
  },
  {
   "cell_type": "code",
   "execution_count": 346,
   "metadata": {},
   "outputs": [
    {
     "data": {
      "text/plain": [
       "2734"
      ]
     },
     "execution_count": 346,
     "metadata": {},
     "output_type": "execute_result"
    }
   ],
   "source": [
    "input_b = input2.copy()\n",
    "for col in input2.columns:\n",
    "    common = get_least_common(input_b)[col]\n",
    "    input_b = input_b[input_b[col]==common]\n",
    "    input_b\n",
    "    if input_b.count().max() ==1:\n",
    "        break\n",
    "series_to_decimal(input_b.iloc[0])\n"
   ]
  },
  {
   "cell_type": "code",
   "execution_count": 342,
   "metadata": {},
   "outputs": [
    {
     "data": {
      "text/plain": [
       "array(['0', '0', '1', '1', '0', '0', '0', '0', '1', '1', '0', '0'],\n",
       "      dtype=object)"
      ]
     },
     "execution_count": 342,
     "metadata": {},
     "output_type": "execute_result"
    }
   ],
   "source": [
    "series_to_decimal(input_b.iloc[0]) * series_to_decimal(input_b.iloc[0])\n",
    "\n"
   ]
  },
  {
   "cell_type": "code",
   "execution_count": null,
   "metadata": {},
   "outputs": [],
   "source": []
  }
 ],
 "metadata": {
  "interpreter": {
   "hash": "849a49f3c97c4464b4ee2c34e7b9f01293c96a49a53d4ae2694e931c378ee2ec"
  },
  "kernelspec": {
   "display_name": "Python 3.9.1 64-bit ('base': conda)",
   "language": "python",
   "name": "python3"
  },
  "language_info": {
   "codemirror_mode": {
    "name": "ipython",
    "version": 3
   },
   "file_extension": ".py",
   "mimetype": "text/x-python",
   "name": "python",
   "nbconvert_exporter": "python",
   "pygments_lexer": "ipython3",
   "version": "3.9.1"
  },
  "orig_nbformat": 4
 },
 "nbformat": 4,
 "nbformat_minor": 2
}
