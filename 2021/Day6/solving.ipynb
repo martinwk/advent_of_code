{
 "cells": [
  {
   "cell_type": "code",
   "execution_count": 2,
   "metadata": {},
   "outputs": [],
   "source": [
    "import pandas as pd\n",
    "import numpy as np\n",
    "import re\n"
   ]
  },
  {
   "cell_type": "markdown",
   "metadata": {},
   "source": [
    "# import data"
   ]
  },
  {
   "cell_type": "code",
   "execution_count": 3,
   "metadata": {},
   "outputs": [
    {
     "data": {
      "text/plain": [
       "array([[3, 4, 3, 1, 2]], dtype=int8)"
      ]
     },
     "execution_count": 3,
     "metadata": {},
     "output_type": "execute_result"
    }
   ],
   "source": [
    "example = pd.read_csv('example.txt',header=None, sep=',', engine='python').values.astype(np.int8)\n",
    "example"
   ]
  },
  {
   "cell_type": "code",
   "execution_count": 4,
   "metadata": {},
   "outputs": [
    {
     "data": {
      "text/plain": [
       "array([[1, 4, 2, 4, 5, 3, 5, 2, 2, 5, 2, 1, 2, 4, 5, 2, 3, 5, 4, 3, 3, 1,\n",
       "        2, 3, 2, 1, 4, 4, 2, 1, 1, 4, 1, 4, 4, 4, 1, 4, 2, 4, 3, 3, 3, 3,\n",
       "        1, 1, 5, 4, 2, 5, 2, 4, 2, 2, 3, 1, 2, 5, 2, 4, 1, 5, 3, 5, 1, 4,\n",
       "        5, 3, 1, 4, 5, 2, 4, 5, 3, 1, 2, 5, 1, 2, 2, 1, 5, 5, 1, 1, 1, 4,\n",
       "        2, 5, 4, 3, 3, 1, 3, 4, 1, 1, 2, 2, 2, 5, 4, 4, 3, 2, 1, 1, 1, 1,\n",
       "        2, 5, 1, 3, 2, 1, 4, 4, 2, 1, 4, 5, 2, 5, 5, 3, 3, 1, 3, 2, 2, 3,\n",
       "        4, 1, 3, 1, 5, 4, 2, 5, 2, 4, 1, 5, 1, 4, 5, 1, 2, 4, 4, 1, 4, 1,\n",
       "        4, 4, 2, 2, 5, 4, 1, 3, 1, 3, 3, 1, 5, 1, 5, 5, 5, 1, 3, 1, 2, 1,\n",
       "        4, 5, 4, 4, 1, 3, 3, 1, 4, 1, 2, 1, 3, 2, 1, 5, 5, 3, 3, 1, 3, 5,\n",
       "        1, 5, 3, 5, 3, 1, 1, 1, 1, 4, 4, 3, 5, 5, 1, 1, 2, 2, 5, 5, 3, 2,\n",
       "        5, 2, 3, 4, 4, 1, 1, 2, 2, 4, 3, 5, 5, 1, 1, 5, 4, 3, 1, 3, 1, 2,\n",
       "        4, 4, 4, 4, 1, 4, 3, 4, 1, 3, 5, 5, 5, 1, 3, 5, 4, 3, 1, 3, 5, 4,\n",
       "        4, 3, 4, 2, 1, 1, 3, 1, 1, 2, 4, 1, 4, 1, 1, 1, 5, 5, 1, 3, 4, 1,\n",
       "        1, 5, 4, 4, 2, 2, 1, 3, 4, 4, 2, 2, 2, 3]], dtype=int8)"
      ]
     },
     "execution_count": 4,
     "metadata": {},
     "output_type": "execute_result"
    }
   ],
   "source": [
    "original_input = pd.read_csv('input.txt',header=None, sep=',', engine='python').values.astype(np.int8)\n",
    "original_input"
   ]
  },
  {
   "cell_type": "markdown",
   "metadata": {},
   "source": [
    "# Part 1\n",
    "## Example"
   ]
  },
  {
   "cell_type": "code",
   "execution_count": 5,
   "metadata": {},
   "outputs": [
    {
     "data": {
      "text/plain": [
       "5934"
      ]
     },
     "execution_count": 5,
     "metadata": {},
     "output_type": "execute_result"
    }
   ],
   "source": [
    "population = example.copy()\n",
    "for day in range(80):\n",
    "    population = population - 1\n",
    "    # they need to reproduce at 0, but use -1 here because\n",
    "    # this avoids make if statement to ensure they either reduce by 1 or\n",
    "    # reproduce (they should not reproduce and decrease by 1).\n",
    "    born_event = population==-1\n",
    "    number_of_new_borns = born_event.sum(None)\n",
    "    new_borns = 8 * np.ones(number_of_new_borns)\n",
    "    population[born_event] = 6\n",
    "    population = np.append(population, new_borns)\n",
    "    # print(f'Population at Day {day+1}: {population}')\n",
    "len(population)\n",
    "\n"
   ]
  },
  {
   "cell_type": "markdown",
   "metadata": {},
   "source": [
    "## Actual assignment"
   ]
  },
  {
   "cell_type": "code",
   "execution_count": 6,
   "metadata": {},
   "outputs": [
    {
     "data": {
      "text/plain": [
       "349549"
      ]
     },
     "execution_count": 6,
     "metadata": {},
     "output_type": "execute_result"
    }
   ],
   "source": [
    "population = original_input.copy()\n",
    "for day in range(80):\n",
    "    population = population - 1\n",
    "    # they need to reproduce at 0, but use -1 here because\n",
    "    # this avoids make if statement to ensure they either reduce by 1 or\n",
    "    # reproduce (they should not reproduce and decrease by 1).\n",
    "    born_event = population==-1\n",
    "    number_of_new_borns = born_event.sum(None)\n",
    "    new_borns = 8 * np.ones(number_of_new_borns)\n",
    "    population[born_event] = 6\n",
    "    population = np.append(population, new_borns)\n",
    "    # print(f'Population at Day {day+1}: {population}')\n",
    "len(population)"
   ]
  },
  {
   "cell_type": "markdown",
   "metadata": {},
   "source": [
    "# Part B"
   ]
  },
  {
   "cell_type": "markdown",
   "metadata": {},
   "source": [
    "Part A could be done in brute force, but part B has a memory error. So I switched here to a histogram which is much more efficient"
   ]
  },
  {
   "cell_type": "markdown",
   "metadata": {},
   "source": [
    "## Example\n",
    "### Example output"
   ]
  },
  {
   "cell_type": "code",
   "execution_count": 81,
   "metadata": {},
   "outputs": [
    {
     "name": "stdout",
     "output_type": "stream",
     "text": [
      "dag 0: [0 1 1 2 1 0 0 0 0]\n",
      "dag 1: [1 1 2 1 0 0 0 0 0]\n",
      "dag 2: [1 2 1 0 0 0 1 0 1]\n",
      "dag 3: [2 1 0 0 0 1 1 1 1]\n",
      "dag 4: [1 0 0 0 1 1 3 1 2]\n",
      "dag 5: [0 0 0 1 1 3 2 2 1]\n",
      "dag 6: [0 0 1 1 3 2 2 1 0]\n",
      "dag 7: [0 1 1 3 2 2 1 0 0]\n",
      "dag 8: [1 1 3 2 2 1 0 0 0]\n"
     ]
    }
   ],
   "source": [
    "print(f'''dag 0: {np.histogram([3,4,3,1,2], bins=range(10))[0]}\n",
    "dag 1: {np.histogram([2,3,2,0,1], bins=range(10))[0]}\n",
    "dag 2: {np.histogram([1,2,1,6,0,8], bins=range(10))[0]}\n",
    "dag 3: {np.histogram([0,1,0,5,6,7,8], bins=range(10))[0]}\n",
    "dag 4: {np.histogram([6,0,6,4,5,6,7,8,8], bins=range(10))[0]}\n",
    "dag 5: {np.histogram([5,6,5,3,4,5,6,7,7,8], bins=range(10))[0]}\n",
    "dag 6: {np.histogram([4,5,4,2,3,4,5,6,6,7], bins=range(10))[0]}\n",
    "dag 7: {np.histogram([3,4,3,1,2,3,4,5,5,6], bins=range(10))[0]}\n",
    "dag 8: {np.histogram([2,3,2,0,1,2,3,4,4,5], bins=range(10))[0]}''')"
   ]
  },
  {
   "cell_type": "markdown",
   "metadata": {},
   "source": [
    "### Example run"
   ]
  },
  {
   "cell_type": "code",
   "execution_count": 83,
   "metadata": {},
   "outputs": [
    {
     "data": {
      "text/plain": [
       "5934"
      ]
     },
     "execution_count": 83,
     "metadata": {},
     "output_type": "execute_result"
    }
   ],
   "source": [
    "population = example.copy()\n",
    "population_hist, histogram_bin_edges = np.histogram(population, bins=range(10))\n",
    "\n",
    "# print(population_hist)\n",
    "hist0_yesterday = population_hist[0]\n",
    "for day in range(80):\n",
    "    for bin_i in range(len(population_hist)):\n",
    "        if bin_i >0:# len(population_hist):\n",
    "            # counts down: lower bin gets value of higher bin\n",
    "            population_hist[bin_i-1] = population_hist[bin_i]\n",
    "    population_hist[6] += hist0_yesterday\n",
    "    population_hist[8] = hist0_yesterday\n",
    "    hist0_yesterday = population_hist[0]\n",
    "    # print(population_hist)\n",
    "sum(population_hist)"
   ]
  },
  {
   "cell_type": "markdown",
   "metadata": {},
   "source": [
    "## Real data run"
   ]
  },
  {
   "cell_type": "code",
   "execution_count": 84,
   "metadata": {},
   "outputs": [
    {
     "name": "stdout",
     "output_type": "stream",
     "text": [
      "[ 0 80 53 51 63 53  0  0  0]\n"
     ]
    },
    {
     "data": {
      "text/plain": [
       "349549"
      ]
     },
     "execution_count": 84,
     "metadata": {},
     "output_type": "execute_result"
    }
   ],
   "source": [
    "population = original_input.copy()\n",
    "population_hist, histogram_bin_edges = np.histogram(population, bins=range(10))\n",
    "\n",
    "print(population_hist)\n",
    "hist0_yesterday = population_hist[0]\n",
    "for day in range(80):\n",
    "    for bin_i in range(len(population_hist)):\n",
    "        if bin_i >0:# len(population_hist):\n",
    "            # counts down: lower bin gets value of higher bin\n",
    "            population_hist[bin_i-1] = population_hist[bin_i]\n",
    "    population_hist[6] += hist0_yesterday\n",
    "    population_hist[8] = hist0_yesterday\n",
    "    hist0_yesterday = population_hist[0]\n",
    "    # print(population_hist)\n",
    "sum(population_hist)"
   ]
  },
  {
   "cell_type": "code",
   "execution_count": 88,
   "metadata": {},
   "outputs": [
    {
     "data": {
      "text/plain": [
       "1589590444365"
      ]
     },
     "execution_count": 88,
     "metadata": {},
     "output_type": "execute_result"
    }
   ],
   "source": [
    "population = original_input.copy()\n",
    "population_hist, histogram_bin_edges = np.histogram(population, bins=range(10))\n",
    "\n",
    "# print(population_hist)\n",
    "hist0_yesterday = population_hist[0]\n",
    "for day in range(256 ):\n",
    "    for bin_i in range(len(population_hist)):\n",
    "        if bin_i >0:# len(population_hist):\n",
    "            # counts down: lower bin gets value of higher bin\n",
    "            population_hist[bin_i-1] = population_hist[bin_i]\n",
    "    population_hist[6] += hist0_yesterday\n",
    "    population_hist[8] = hist0_yesterday\n",
    "    hist0_yesterday = population_hist[0]\n",
    "    # print(population_hist)\n",
    "sum(population_hist)"
   ]
  }
 ],
 "metadata": {
  "interpreter": {
   "hash": "849a49f3c97c4464b4ee2c34e7b9f01293c96a49a53d4ae2694e931c378ee2ec"
  },
  "kernelspec": {
   "display_name": "Python 3.9.1 64-bit ('base': conda)",
   "language": "python",
   "name": "python3"
  },
  "language_info": {
   "codemirror_mode": {
    "name": "ipython",
    "version": 3
   },
   "file_extension": ".py",
   "mimetype": "text/x-python",
   "name": "python",
   "nbconvert_exporter": "python",
   "pygments_lexer": "ipython3",
   "version": "3.9.1"
  },
  "orig_nbformat": 4
 },
 "nbformat": 4,
 "nbformat_minor": 2
}
